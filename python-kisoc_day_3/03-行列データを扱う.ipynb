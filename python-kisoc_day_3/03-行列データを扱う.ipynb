{
 "nbformat": 4,
 "nbformat_minor": 2,
 "metadata": {
  "language_info": {
   "name": "python",
   "codemirror_mode": {
    "name": "ipython",
    "version": 3
   },
   "version": "3.7.6-final"
  },
  "orig_nbformat": 2,
  "file_extension": ".py",
  "mimetype": "text/x-python",
  "name": "python",
  "npconvert_exporter": "python",
  "pygments_lexer": "ipython3",
  "version": 3,
  "kernelspec": {
   "name": "python37664bitdataconda13318e44d8ba4b58a0fd84c76bf0fd3f",
   "display_name": "Python 3.7.6 64-bit ('data': conda)"
  }
 },
 "cells": [
  {
   "cell_type": "markdown",
   "execution_count": null,
   "metadata": {},
   "outputs": [],
   "source": [
    "# pandas の DataFrame を用い，行列（表）データを扱う\n",
    "\n",
    "行データを拡張し，いよいよ表データを扱います！！\n",
    "\n",
    "これを使いこなせるようになるのが，これまで3回の最終目標です！\n",
    "\n",
    "## 目標\n",
    "- DataFrame のデータを概観できる\n",
    "- DataFrame を適切に参照できる\n",
    "- DataFrame を定義する方法を知る\n",
    "\n",
    "## 目次\n",
    "- データの特徴をつかむ\n",
    "- DataFrame を参照する\n",
    "- DataFrame を定義する"
   ]
  },
  {
   "cell_type": "code",
   "execution_count": null,
   "metadata": {},
   "outputs": [],
   "source": [
    "import pandas as pd\n",
    "from pandas import DataFrame, Series"
   ]
  },
  {
   "cell_type": "code",
   "execution_count": null,
   "metadata": {},
   "outputs": [],
   "source": [
    "# データの読み込み\n",
    "import sklearn.datasets\n",
    "data = sklearn.datasets.load_linnerud()\n",
    "df = DataFrame(data.data, columns=data.feature_names).join(\n",
    "    DataFrame(data.target, columns=data.target_names))\n",
    "\n",
    "# 表示\n",
    "df"
   ]
  },
  {
   "cell_type": "markdown",
   "execution_count": null,
   "metadata": {},
   "outputs": [],
   "source": [
    "## データの特徴をつかむ\n",
    "\n",
    "データを読み込んで，まずはどのようなデータか概観したいときに用いるメソッドを紹介する。\n",
    "\n",
    "- columns\n",
    "- head()\n",
    "- describe()\n",
    "- hist()\n",
    "- scatter()"
   ]
  },
  {
   "cell_type": "code",
   "execution_count": null,
   "metadata": {},
   "outputs": [],
   "source": [
    "# 先頭5行を表示する\n",
    "\n",
    "df.head()"
   ]
  },
  {
   "cell_type": "code",
   "execution_count": null,
   "metadata": {},
   "outputs": [],
   "source": [
    "# 列名を確認する\n",
    "\n",
    "df.columns"
   ]
  },
  {
   "cell_type": "code",
   "execution_count": null,
   "metadata": {},
   "outputs": [],
   "source": [
    "# 統計量を確認する\n",
    "\n",
    "df.describe()"
   ]
  },
  {
   "cell_type": "code",
   "execution_count": null,
   "metadata": {},
   "outputs": [],
   "source": [
    "# 分布を確認する\n",
    "\n",
    "df.hist()"
   ]
  },
  {
   "cell_type": "code",
   "execution_count": null,
   "metadata": {},
   "outputs": [],
   "source": [
    "# 分布を確認する（特定の列）\n",
    "\n",
    "df.hist('Waist')"
   ]
  },
  {
   "cell_type": "code",
   "execution_count": null,
   "metadata": {},
   "outputs": [],
   "source": [
    "# 散布図\n",
    "\n",
    "df.plot.scatter('Weight', 'Waist')"
   ]
  },
  {
   "cell_type": "markdown",
   "execution_count": null,
   "metadata": {},
   "outputs": [],
   "source": [
    "## DataFrame を参照する\n",
    "\n",
    "適切にデータを参照する方法を学ぶ。\n",
    "\n",
    "全てのデータを分析対象とすることは少ない。分析対象のデータのみを参照したうえで，データの集計・分析・グラフ化を行う。\n"
   ]
  },
  {
   "cell_type": "code",
   "execution_count": null,
   "metadata": {},
   "outputs": [],
   "source": [
    "# 列を参照する (1)\n",
    "\n",
    "df['Weight']"
   ]
  },
  {
   "cell_type": "code",
   "execution_count": null,
   "metadata": {},
   "outputs": [],
   "source": [
    "# 列を参照する (2)\n",
    "\n",
    "df.Weight"
   ]
  },
  {
   "cell_type": "code",
   "execution_count": null,
   "metadata": {},
   "outputs": [],
   "source": [
    "# 行を参照する\n",
    "\n",
    "df.loc[0]  # [] の中にインデックスラベルを入れる"
   ]
  },
  {
   "cell_type": "code",
   "execution_count": null,
   "metadata": {},
   "outputs": [],
   "source": [
    "# 1行，複数列を参照する (1) 連続する列\n",
    "\n",
    "df.loc[0, 'Weight':'Pulse']  # インデックス，列名スライス"
   ]
  },
  {
   "cell_type": "code",
   "execution_count": null,
   "metadata": {},
   "outputs": [],
   "source": [
    "# 1行，複数列を参照する (2) とびとびの列\n",
    "\n",
    "df.loc[0, ['Situps','Waist','Pulse']]  # インデックス，列名のリスト"
   ]
  },
  {
   "cell_type": "code",
   "execution_count": null,
   "metadata": {},
   "outputs": [],
   "source": [
    "# 複数行，1列を参照する (1) 連続する列\n",
    "\n",
    "df.loc[0:2, 'Weight']  # インデックススライス，列名"
   ]
  },
  {
   "cell_type": "code",
   "execution_count": null,
   "metadata": {},
   "outputs": [],
   "source": [
    "# 複数行，1列を参照する (2) とびとびの列\n",
    "\n",
    "df.loc[[0, 2, 4, 6], 'Weight']  # インデックスのリスト，列名"
   ]
  },
  {
   "cell_type": "markdown",
   "execution_count": null,
   "metadata": {},
   "outputs": [],
   "source": [
    "### スライスの挙動\n",
    "\n",
    "- Python の通常のスライス（リストのスライスなど）\n",
    "  - 末尾は含まない\n",
    "- pandas のスライス\n",
    "  - 末尾を含む "
   ]
  },
  {
   "cell_type": "markdown",
   "execution_count": null,
   "metadata": {},
   "outputs": [],
   "source": [
    "Python スライスを確認する"
   ]
  },
  {
   "cell_type": "code",
   "execution_count": null,
   "metadata": {},
   "outputs": [],
   "source": [
    "arr = [3, 9, 27, 81, 243]\n",
    "\n",
    "print('リストのスライス = Python スライス')\n",
    "print('  arr[0:3] --> インデックス番号0から2，3つ表示')\n",
    "print()\n",
    "print(arr[0:3])"
   ]
  },
  {
   "cell_type": "markdown",
   "execution_count": null,
   "metadata": {},
   "outputs": [],
   "source": [
    "pandas の DataFrame・Series は，pandas スライスと Python スライスの，どちらも使用できる"
   ]
  },
  {
   "cell_type": "code",
   "execution_count": null,
   "metadata": {},
   "outputs": [],
   "source": [
    "print('DataFrame だが Python スライスを用いる場合')\n",
    "print('  df[0:3] --> pandasのインデックス番号0から2，3つ表示')\n",
    "print()\n",
    "print(df[0:3])\n",
    "\n",
    "print()\n",
    "print('DataFrame で pandas スライスを用いる')\n",
    "print('  df.loc[0:3, :] --> pandasのインデックスラベル0から3，4つ表示')\n",
    "print()\n",
    "print(df.loc[0:3, :])\n"
   ]
  },
  {
   "cell_type": "markdown",
   "execution_count": null,
   "metadata": {},
   "outputs": [],
   "source": [
    "### 推奨\n",
    "\n",
    "書いているコードが，Python スライスなのか，pandas スライスなのか混同するのが一番よくない。pandas の DataFrame, Series でスライスする方法を自分の中で統一する必要がある。\n",
    "\n",
    "**推奨するのは，pandas の参照には基本的にすべて .loc() を用うこと。**\n",
    "\n",
    ".loc() で参照する場合は，pandas スライスとなるので，スライスの末尾を含む。インデックスラベル・列名ラベルを用いる。\n"
   ]
  },
  {
   "cell_type": "code",
   "execution_count": null,
   "metadata": {},
   "outputs": [],
   "source": [
    "# 複数行，複数列を参照する (1) 連続\n",
    "\n",
    "df.loc[0:5, 'Weight':'Pulse']"
   ]
  },
  {
   "cell_type": "code",
   "execution_count": null,
   "metadata": {},
   "outputs": [],
   "source": [
    "# 複数行，複数列を参照する (1) 飛び飛び\n",
    "\n",
    "df.loc[[2,4,6], ['Chins', 'Weight']]"
   ]
  },
  {
   "cell_type": "code",
   "execution_count": null,
   "metadata": {},
   "outputs": [],
   "source": [
    "# 全行，複数列を参照する\n",
    "\n",
    "df.loc[:, 'Weight':'Pulse']"
   ]
  },
  {
   "cell_type": "code",
   "execution_count": null,
   "metadata": {},
   "outputs": [],
   "source": [
    "# セルを参照する (1) loc\n",
    "\n",
    "df.loc[0, 'Weight']"
   ]
  },
  {
   "cell_type": "code",
   "execution_count": null,
   "metadata": {},
   "outputs": [],
   "source": [
    "# セルを参照する (2) at (推奨)\n",
    "\n",
    "df.at[0, 'Weight']  # .loc と結果は同じだが，セル参照の内部処理は， .at が最適"
   ]
  },
  {
   "cell_type": "markdown",
   "execution_count": null,
   "metadata": {},
   "outputs": [],
   "source": [
    "(参考・非推奨) loc の代わりにiloc，atの代わりにiatを用いると，Python インデックスを用いた参照ができる"
   ]
  },
  {
   "cell_type": "code",
   "execution_count": null,
   "metadata": {},
   "outputs": [],
   "source": [
    "# iloc は Python インデックスになる（非推奨）\n",
    "\n",
    "df.iloc[0:2, 0:3]"
   ]
  },
  {
   "cell_type": "code",
   "execution_count": null,
   "metadata": {},
   "outputs": [],
   "source": [
    "# iloc はインデックス番号のみなので，ラベルを使うとエラーになる\n",
    "\n",
    "df.iloc[0:2, 'Weight':'Pulse']  "
   ]
  },
  {
   "cell_type": "markdown",
   "execution_count": null,
   "metadata": {},
   "outputs": [],
   "source": [
    "### True, False を用いた参照"
   ]
  },
  {
   "cell_type": "code",
   "execution_count": null,
   "metadata": {},
   "outputs": [],
   "source": [
    "df < 50"
   ]
  },
  {
   "cell_type": "code",
   "execution_count": null,
   "metadata": {},
   "outputs": [],
   "source": [
    "# よくやる使い方\n",
    "df[df.Jumps < 50]"
   ]
  },
  {
   "cell_type": "code",
   "execution_count": null,
   "metadata": {},
   "outputs": [],
   "source": [
    "# 条件で絞った上で，必要なデータのみ取り出すとき\n",
    "df[df.Jumps < 50].loc[:, 'Chins':'Jumps']"
   ]
  },
  {
   "cell_type": "markdown",
   "execution_count": null,
   "metadata": {},
   "outputs": [],
   "source": [
    "### 練習\n",
    "\n",
    "体重が 180 以上の人の，懸垂の成績・体重・ウェストを出力してください"
   ]
  },
  {
   "cell_type": "code",
   "execution_count": null,
   "metadata": {},
   "outputs": [],
   "source": [
    "# 体重が 180 以上の人の，懸垂の成績・体重・ウェストを出力する"
   ]
  },
  {
   "cell_type": "markdown",
   "execution_count": null,
   "metadata": {},
   "outputs": [],
   "source": [
    "## DataFrame を定義する"
   ]
  },
  {
   "cell_type": "markdown",
   "execution_count": null,
   "metadata": {},
   "outputs": [],
   "source": [
    "### 既に作ってあるファイルを読み込む"
   ]
  },
  {
   "cell_type": "code",
   "execution_count": null,
   "metadata": {},
   "outputs": [],
   "source": []
  },
  {
   "cell_type": "markdown",
   "execution_count": null,
   "metadata": {},
   "outputs": [],
   "source": [
    "### 新たに DataFrame を定義する\n",
    "\n",
    "ディクショナリを用いる"
   ]
  },
  {
   "cell_type": "code",
   "execution_count": null,
   "metadata": {},
   "outputs": [],
   "source": [
    "# ディクショナリを用いて DaraFrameを定義する\n",
    "\n",
    "# データ\n",
    "cities = ['Tokyo', 'Shanghai', 'London', 'Moscow']\n",
    "climates = ['Cfa', 'Cfa', 'Cfb', 'Dfb']\n",
    "populations = [3814000, 3400000, 1400000, 17200000]\n",
    "\n",
    "# 定義 インデックス有"
   ]
  },
  {
   "cell_type": "code",
   "execution_count": null,
   "metadata": {},
   "outputs": [],
   "source": [
    "# 定義 インデックス無"
   ]
  },
  {
   "cell_type": "markdown",
   "execution_count": null,
   "metadata": {},
   "outputs": [],
   "source": [
    "### DaraFrame を保存する"
   ]
  },
  {
   "cell_type": "code",
   "execution_count": null,
   "metadata": {},
   "outputs": [],
   "source": [
    "# 保存する"
   ]
  },
  {
   "cell_type": "code",
   "execution_count": null,
   "metadata": {},
   "outputs": [],
   "source": [
    "# 保存する インデックス無の場合"
   ]
  }
 ]
}