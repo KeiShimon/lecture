{
 "nbformat": 4,
 "nbformat_minor": 2,
 "metadata": {
  "language_info": {
   "name": "python",
   "codemirror_mode": {
    "name": "ipython",
    "version": 3
   },
   "version": "3.7.6-final"
  },
  "orig_nbformat": 2,
  "file_extension": ".py",
  "mimetype": "text/x-python",
  "name": "python",
  "npconvert_exporter": "python",
  "pygments_lexer": "ipython3",
  "version": 3,
  "kernelspec": {
   "name": "python37664bitdatacondab431210f6349489194585e0f6fde0451",
   "display_name": "Python 3.7.6 64-bit ('data': conda)"
  }
 },
 "cells": [
  {
   "cell_type": "markdown",
   "metadata": {},
   "source": [
    "# ディクショナリ\n",
    "\n",
    "”辞書 (dictionary)”のようなデータ型。\n",
    "\n",
    "辞書のように，”キー (key)”と，”key”に紐づけられた”値 (value)”を持つ。\n",
    "\n",
    "データに名前をつけて，1つのディクショナリにまとめて保管することができる。\n",
    "\n",
    "ディクショナリはデータの集計に役に立つ。\n",
    "\n",
    "## 目標\n",
    "\n",
    "ディクショナリを用いて簡単なデータの集計ができるようになる\n",
    "\n",
    "## 目次\n",
    "\n",
    "- ディクショナリの定義とデータの追加\n",
    "- ディクショナリのデータアクセス\n",
    "- 集計\n",
    "- 演習問題"
   ]
  },
  {
   "cell_type": "markdown",
   "metadata": {},
   "source": [
    "## ディクショナリの定義とデータの追加"
   ]
  },
  {
   "cell_type": "markdown",
   "metadata": {},
   "source": [
    "### ディクショナリを定義する"
   ]
  },
  {
   "cell_type": "code",
   "execution_count": 12,
   "metadata": {},
   "outputs": [
    {
     "data": {
      "text/plain": "{'03-01': '日曜日', '03-07': '土曜日'}"
     },
     "execution_count": 12,
     "metadata": {},
     "output_type": "execute_result"
    }
   ],
   "source": [
    "# ディクショナリの定義 その1\n",
    "\n",
    "my_dict = {'03-01': '日曜日', '03-07': '土曜日'}\n",
    "\n",
    "# - 波括弧で全体を囲う\n",
    "# - コロン(:) の左にkey ，右にvalue を書くことで，key-valueの組み合わせを登録する\n",
    "# - 複数のkey-value を登録するとき，カンマで区切る\n",
    "\n",
    "# 出力\n",
    "my_dict"
   ]
  },
  {
   "cell_type": "code",
   "execution_count": 15,
   "metadata": {},
   "outputs": [
    {
     "data": {
      "text/plain": "{'03-01': '日曜日', '03-07': '土曜日', '03-04': '水曜日', '03-05': '木曜日'}"
     },
     "execution_count": 15,
     "metadata": {},
     "output_type": "execute_result"
    }
   ],
   "source": [
    "# ディクショナリの定義 その2\n",
    "\n",
    "today = '03-04'\n",
    "tomorrow = '03-05'\n",
    "\n",
    "my_dict = {\n",
    "    '03-01': '日曜日',\n",
    "    '03-07': '土曜日',\n",
    "    today: '水曜日',\n",
    "    tomorrow: '木曜日',\n",
    "}\n",
    "\n",
    "# key は変数でも良い\n",
    "# 改行したほうが見やすい場合が多いので，基本的にこのスタイルで定義する\n",
    "\n",
    "# 出力\n",
    "my_dict"
   ]
  },
  {
   "cell_type": "markdown",
   "metadata": {},
   "source": [
    "### ディクショナリの定義のルール\n",
    "\n",
    "- value にはどんなデータ型を登録しても良い\n",
    "\n",
    "- 1つのディクショナリに登録されているvalue のそれぞれが，異なる型でも問題ない\n",
    "\n",
    "- key には変更されないデータ型を登録する\n",
    "  - 数値，文字列がキーになる場合がほとんど\n",
    "  - リストは中身が変更されるため，キーにならない"
   ]
  },
  {
   "cell_type": "markdown",
   "metadata": {},
   "source": [
    "細かな話...暇だったり気になったりしたら読んでください。\n",
    "\n",
    "- なぜ変更されないデータ型しかキーとして登録できないのか？\n",
    "  - 実際の辞書を想像してみてください。コンテンツ（value)が改訂でアップデートされることはあっても，同じコンテンツ(value)なのに索引(key)が変わることはありえないです。\n",
    "\n",
    "- 変数は変更されるけど，key として使って大丈夫？\n",
    "  - 大丈夫です。変数をkey としても，ディクショナリに登録されるタイミングで，その変数に格納されている値のみが評価され，辞書に登録されます。\n",
    "\n",
    "- 数値型は変更されないデータ型なのか？\n",
    "ディクショナリの定義  - 数値型は変更されません。1は1だし，831は831です。それらの数値は直接的には全く別のデータです。数値型の格納された変数をkey として用いる場合は，上のQ&Aとまったく同じ理屈で問題ないです。"
   ]
  },
  {
   "cell_type": "markdown",
   "metadata": {},
   "source": [
    "### ディクショナリにデータを追加する"
   ]
  },
  {
   "cell_type": "code",
   "execution_count": 16,
   "metadata": {},
   "outputs": [
    {
     "data": {
      "text/plain": "{'03-01': '日曜日',\n '03-07': '土曜日',\n '03-04': '水曜日',\n '03-05': '木曜日',\n '03-03': '火曜日'}"
     },
     "execution_count": 16,
     "metadata": {},
     "output_type": "execute_result"
    }
   ],
   "source": [
    "# データの追加\n",
    "yesterday = '03-03'\n",
    "my_dict[yesterday] = '火曜日'\n",
    "\n",
    "# show\n",
    "my_dict"
   ]
  },
  {
   "cell_type": "markdown",
   "metadata": {},
   "source": [
    "### 練習\n",
    "\n",
    "自分のプロフィールをディクショナリに登録してみよう"
   ]
  },
  {
   "cell_type": "code",
   "execution_count": 21,
   "metadata": {},
   "outputs": [],
   "source": [
    "# 自分のプロフィールを登録するためのディクショナリを作成する\n",
    "# 定義の時点で出身地と年齢を登録しておく\n",
    "\n",
    "\n",
    "# データをいくつか追加する\n",
    "# たとえば，学籍番号，血液型...\n",
    "\n",
    "\n",
    "# 趣味か好きな食べ物のリストをデータとして登録する\n",
    "\n"
   ]
  },
  {
   "cell_type": "markdown",
   "metadata": {},
   "source": [
    "## ディクショナリのデータ参照"
   ]
  },
  {
   "cell_type": "code",
   "execution_count": 23,
   "metadata": {},
   "outputs": [
    {
     "data": {
      "text/plain": "'土曜日'"
     },
     "execution_count": 23,
     "metadata": {},
     "output_type": "execute_result"
    }
   ],
   "source": [
    "# 参照 1\n",
    "my_dict['03-07']"
   ]
  },
  {
   "cell_type": "code",
   "execution_count": 24,
   "metadata": {},
   "outputs": [
    {
     "data": {
      "text/plain": "'木曜日'"
     },
     "execution_count": 24,
     "metadata": {},
     "output_type": "execute_result"
    }
   ],
   "source": [
    "# 参照 2\n",
    "my_dict[tomorrow]"
   ]
  },
  {
   "cell_type": "code",
   "execution_count": 25,
   "metadata": {},
   "outputs": [
    {
     "ename": "KeyError",
     "evalue": "'03-20'",
     "output_type": "error",
     "traceback": [
      "\u001b[1;31m---------------------------------------------------------------------------\u001b[0m",
      "\u001b[1;31mKeyError\u001b[0m                                  Traceback (most recent call last)",
      "\u001b[1;32m<ipython-input-25-9b3447ba460e>\u001b[0m in \u001b[0;36m<module>\u001b[1;34m\u001b[0m\n\u001b[0;32m      1\u001b[0m \u001b[1;31m# アクセス 存在しないkey\u001b[0m\u001b[1;33m\u001b[0m\u001b[1;33m\u001b[0m\u001b[1;33m\u001b[0m\u001b[0m\n\u001b[1;32m----> 2\u001b[1;33m \u001b[0mmy_dict\u001b[0m\u001b[1;33m[\u001b[0m\u001b[1;34m'03-20'\u001b[0m\u001b[1;33m]\u001b[0m\u001b[1;33m\u001b[0m\u001b[1;33m\u001b[0m\u001b[0m\n\u001b[0m",
      "\u001b[1;31mKeyError\u001b[0m: '03-20'"
     ]
    }
   ],
   "source": [
    "# 存在しないkey を参照しようとする\n",
    "my_dict['03-20']"
   ]
  },
  {
   "cell_type": "code",
   "execution_count": 26,
   "metadata": {},
   "outputs": [
    {
     "ename": "KeyError",
     "evalue": "'03-11'",
     "output_type": "error",
     "traceback": [
      "\u001b[1;31m---------------------------------------------------------------------------\u001b[0m",
      "\u001b[1;31mKeyError\u001b[0m                                  Traceback (most recent call last)",
      "\u001b[1;32m<ipython-input-26-3c05d865ad01>\u001b[0m in \u001b[0;36m<module>\u001b[1;34m\u001b[0m\n\u001b[0;32m      1\u001b[0m \u001b[1;31m# やりがちな失敗\u001b[0m\u001b[1;33m\u001b[0m\u001b[1;33m\u001b[0m\u001b[1;33m\u001b[0m\u001b[0m\n\u001b[0;32m      2\u001b[0m \u001b[0mtoday\u001b[0m \u001b[1;33m=\u001b[0m \u001b[1;34m'03-11'\u001b[0m\u001b[1;33m\u001b[0m\u001b[1;33m\u001b[0m\u001b[0m\n\u001b[1;32m----> 3\u001b[1;33m \u001b[0mmy_dict\u001b[0m\u001b[1;33m[\u001b[0m\u001b[0mtoday\u001b[0m\u001b[1;33m]\u001b[0m\u001b[1;33m\u001b[0m\u001b[1;33m\u001b[0m\u001b[0m\n\u001b[0m",
      "\u001b[1;31mKeyError\u001b[0m: '03-11'"
     ]
    }
   ],
   "source": [
    "# やりがちな失敗\n",
    "today = '03-11'\n",
    "my_dict[today]"
   ]
  },
  {
   "cell_type": "markdown",
   "metadata": {},
   "source": [
    "## エラーに対応する\n",
    "\n",
    "対処する＝ハンドルする。英語では \"exception handling\" 。\n",
    "\n",
    "KeyErrorはよく起こるので，よくやるのは\n",
    "\n",
    "- key が存在していた場合は対応するvalue を取得する\n",
    "- 存在していない場合は，そのkey-value ペアを登録した上で，そのvalue を取得する\n",
    "\n",
    "Python では， try-except で記述する"
   ]
  },
  {
   "cell_type": "code",
   "execution_count": 27,
   "metadata": {},
   "outputs": [
    {
     "ename": "KeyError",
     "evalue": "'03-25'",
     "output_type": "error",
     "traceback": [
      "\u001b[1;31m---------------------------------------------------------------------------\u001b[0m",
      "\u001b[1;31mKeyError\u001b[0m                                  Traceback (most recent call last)",
      "\u001b[1;32m<ipython-input-27-576fa5965997>\u001b[0m in \u001b[0;36m<module>\u001b[1;34m\u001b[0m\n\u001b[0;32m      2\u001b[0m \u001b[1;33m\u001b[0m\u001b[0m\n\u001b[0;32m      3\u001b[0m \u001b[1;31m# エラーが起こることを確認する\u001b[0m\u001b[1;33m\u001b[0m\u001b[1;33m\u001b[0m\u001b[1;33m\u001b[0m\u001b[0m\n\u001b[1;32m----> 4\u001b[1;33m \u001b[0mmy_dict\u001b[0m\u001b[1;33m[\u001b[0m\u001b[0mcommencement\u001b[0m\u001b[1;33m]\u001b[0m\u001b[1;33m\u001b[0m\u001b[1;33m\u001b[0m\u001b[0m\n\u001b[0m",
      "\u001b[1;31mKeyError\u001b[0m: '03-25'"
     ]
    }
   ],
   "source": [
    "commencement = '03-25'\n",
    "\n",
    "# エラーが起こることを確認する\n",
    "my_dict[commencement]"
   ]
  },
  {
   "cell_type": "code",
   "execution_count": 28,
   "metadata": {},
   "outputs": [
    {
     "name": "stdout",
     "output_type": "stream",
     "text": "unknown\n"
    }
   ],
   "source": [
    "try:\n",
    "    day = my_dict[commencement]\n",
    "except:\n",
    "    day = 'unknown'\n",
    "\n",
    "print(day)"
   ]
  },
  {
   "cell_type": "code",
   "execution_count": null,
   "metadata": {},
   "outputs": [],
   "source": []
  }
 ]
}