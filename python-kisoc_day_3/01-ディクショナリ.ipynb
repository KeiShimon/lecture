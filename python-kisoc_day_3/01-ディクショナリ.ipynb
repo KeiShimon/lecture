{
 "nbformat": 4,
 "nbformat_minor": 2,
 "metadata": {
  "language_info": {
   "name": "python",
   "codemirror_mode": {
    "name": "ipython",
    "version": 3
   },
   "version": "3.7.6-final"
  },
  "orig_nbformat": 2,
  "file_extension": ".py",
  "mimetype": "text/x-python",
  "name": "python",
  "npconvert_exporter": "python",
  "pygments_lexer": "ipython3",
  "version": 3,
  "kernelspec": {
   "name": "python37664bitdatacondab431210f6349489194585e0f6fde0451",
   "display_name": "Python 3.7.6 64-bit ('data': conda)"
  }
 },
 "cells": [
  {
   "cell_type": "markdown",
   "execution_count": null,
   "metadata": {},
   "outputs": [],
   "source": [
    "# ディクショナリ\n",
    "\n",
    "”辞書 (dictionary)”のようなデータ型。\n",
    "\n",
    "辞書のように，”キー (key)”と，”key”に紐づけられた”値 (value)”を持つ。\n",
    "\n",
    "データに名前をつけて，1つのディクショナリにまとめて保管することができる。\n",
    "\n",
    "ディクショナリはデータの集計に役に立つ。\n",
    "\n",
    "## 目標\n",
    "\n",
    "ディクショナリを用いて簡単なデータの集計ができるようになる\n",
    "\n",
    "## 目次\n",
    "\n",
    "- ディクショナリの定義とデータの追加\n",
    "- ディクショナリのデータアクセス\n",
    "- ディクショナリのメソッド\n",
    "- 集計\n",
    "- 演習問題"
   ]
  },
  {
   "cell_type": "markdown",
   "execution_count": null,
   "metadata": {},
   "outputs": [],
   "source": [
    "## ディクショナリの定義とデータの追加"
   ]
  },
  {
   "cell_type": "markdown",
   "execution_count": null,
   "metadata": {},
   "outputs": [],
   "source": [
    "### ディクショナリを定義する"
   ]
  },
  {
   "cell_type": "code",
   "execution_count": null,
   "metadata": {},
   "outputs": [],
   "source": [
    "# ディクショナリの定義 その1\n",
    "\n",
    "my_dict = {'03-01': '日曜日', '03-07': '土曜日'}\n",
    "\n",
    "# - 波括弧で全体を囲う\n",
    "# - コロン(:) の左にkey ，右にvalue を書くことで，key-valueの組み合わせを登録する\n",
    "# - 複数のkey-value を登録するとき，カンマで区切る\n",
    "\n",
    "# 出力\n",
    "my_dict"
   ]
  },
  {
   "cell_type": "code",
   "execution_count": null,
   "metadata": {},
   "outputs": [],
   "source": [
    "# ディクショナリの定義 その2\n",
    "\n",
    "today = '03-04'\n",
    "tomorrow = '03-05'\n",
    "\n",
    "my_dict = {\n",
    "    '03-01': '日曜日',\n",
    "    '03-07': '土曜日',\n",
    "    today: '水曜日',\n",
    "    tomorrow: '木曜日',\n",
    "}\n",
    "\n",
    "# key は変数でも良い\n",
    "# 改行したほうが見やすい場合が多いので，基本的にこのスタイルで定義する\n",
    "\n",
    "# 出力\n",
    "my_dict"
   ]
  },
  {
   "cell_type": "markdown",
   "execution_count": null,
   "metadata": {},
   "outputs": [],
   "source": [
    "### ディクショナリの定義のルール\n",
    "\n",
    "- value にはどんなデータ型を登録しても良い\n",
    "\n",
    "- 1つのディクショナリに登録されているvalue のそれぞれが，異なる型でも問題ない\n",
    "\n",
    "- key には変更されないデータ型を登録する\n",
    "  - 数値，文字列がキーになる場合がほとんど\n",
    "  - リストは中身が変更されるため，キーにならない"
   ]
  },
  {
   "cell_type": "markdown",
   "execution_count": null,
   "metadata": {},
   "outputs": [],
   "source": [
    "細かな話...暇だったり気になったりしたら読んでください。\n",
    "\n",
    "- なぜ変更されないデータ型しかキーとして登録できないのか？\n",
    "  - 実際の辞書を想像してみてください。コンテンツ（value)が改訂でアップデートされることはあっても，同じコンテンツ(value)なのに索引(key)が変わることはありえないです。\n",
    "\n",
    "- 変数は変更されるけど，key として使って大丈夫？\n",
    "  - 大丈夫です。変数をkey としても，ディクショナリに登録されるタイミングで，その変数に格納されている値のみが評価され，辞書に登録されます。\n",
    "\n",
    "- 数値型は変更されないデータ型なのか？\n",
    "ディクショナリの定義  - 数値型は変更されません。1は1だし，831は831です。それらの数値は直接的には全く別のデータです。数値型の格納された変数をkey として用いる場合は，上のQ&Aとまったく同じ理屈で問題ないです。"
   ]
  },
  {
   "cell_type": "markdown",
   "execution_count": null,
   "metadata": {},
   "outputs": [],
   "source": [
    "### ディクショナリにデータを追加する"
   ]
  },
  {
   "cell_type": "code",
   "execution_count": null,
   "metadata": {},
   "outputs": [],
   "source": [
    "# データの追加\n",
    "yesterday = '03-03'\n",
    "my_dict[yesterday] = '火曜日'\n",
    "\n",
    "# show\n",
    "my_dict"
   ]
  },
  {
   "cell_type": "markdown",
   "execution_count": null,
   "metadata": {},
   "outputs": [],
   "source": [
    "## ディクショナリのデータ参照"
   ]
  },
  {
   "cell_type": "code",
   "execution_count": null,
   "metadata": {},
   "outputs": [],
   "source": [
    "# 参照 1\n",
    "my_dict['03-07']"
   ]
  },
  {
   "cell_type": "code",
   "execution_count": null,
   "metadata": {},
   "outputs": [],
   "source": [
    "# 参照 2\n",
    "my_dict[tomorrow]"
   ]
  },
  {
   "cell_type": "code",
   "execution_count": null,
   "metadata": {},
   "outputs": [],
   "source": [
    "# 存在しないkey を参照しようとする\n",
    "my_dict['03-20']"
   ]
  },
  {
   "cell_type": "code",
   "execution_count": null,
   "metadata": {},
   "outputs": [],
   "source": [
    "# やりがちな失敗\n",
    "today = '03-11'\n",
    "my_dict[today]"
   ]
  },
  {
   "cell_type": "markdown",
   "execution_count": null,
   "metadata": {},
   "outputs": [],
   "source": [
    "### 練習\n",
    "\n",
    "自分のプロフィールをディクショナリに登録し，参照してみよう"
   ]
  },
  {
   "cell_type": "code",
   "execution_count": null,
   "metadata": {},
   "outputs": [],
   "source": [
    "# 自分のプロフィールを登録するためのディクショナリを作成する\n",
    "# 定義の時点で出身地と年齢を登録しておく\n",
    "\n",
    "\n",
    "# データをいくつか追加する\n",
    "# たとえば，学籍番号，血液型...\n",
    "\n",
    "\n",
    "# 趣味か好きな食べ物のリストをデータとして登録する\n",
    "\n",
    "\n",
    "# いくつかのデータを参照する\n",
    "\n"
   ]
  },
  {
   "cell_type": "markdown",
   "execution_count": null,
   "metadata": {},
   "outputs": [],
   "source": [
    "### エラーに対応する\n",
    "\n",
    "英語では \"exception handling\" 。\n",
    "\n",
    "KeyErrorはよく起こってしまうので，Errorが起こっても止まらないようなプログラムを設計する必要がある\n",
    "\n",
    "- key が存在していた場合はエラーが起きないのでそのまま実行する\n",
    "- 存在していない場合は，key-value ペアを登録した上で，何らかの処理をする\n",
    "\n",
    "Python では， try と except で記述する\n",
    "\n",
    "```\n",
    "try:\n",
    "    エラーが起こりうる処理のブロック\n",
    "except:\n",
    "    エラーが起きてしまった場合のみ実行されるブロック\n",
    "```"
   ]
  },
  {
   "cell_type": "code",
   "execution_count": null,
   "metadata": {},
   "outputs": [],
   "source": [
    "# 卒業式って何曜日だっけ\n",
    "commencement = '03-25'\n",
    "\n",
    "# 卒業式が何曜日か，ディクショナリにまだ登録していない\n",
    "# そのため，KeyError が起こる\n",
    "my_dict[commencement]"
   ]
  },
  {
   "cell_type": "code",
   "execution_count": null,
   "metadata": {},
   "outputs": [],
   "source": [
    "try:\n",
    "    day = my_dict[commencement]\n",
    "except:\n",
    "    day = 'unknown'\n",
    "\n",
    "print(day)"
   ]
  },
  {
   "cell_type": "markdown",
   "execution_count": null,
   "metadata": {},
   "outputs": [],
   "source": [
    "## ディクショナリのメソッド\n",
    "\n",
    "役に立つメソッドを紹介していく"
   ]
  },
  {
   "cell_type": "code",
   "execution_count": null,
   "metadata": {},
   "outputs": [],
   "source": [
    "# KeyError を起こさない参照\n",
    "# .get()\n",
    "# try-except を書かなくて良いので楽\n",
    "\n",
    "my_dict.get('03-04', 'unknown')  # key, key が見つからなかった場合に取得する値"
   ]
  },
  {
   "cell_type": "code",
   "execution_count": null,
   "metadata": {},
   "outputs": [],
   "source": [
    "my_dict.get('04-01', 'unknown')  # key, key が見つからなかった場合に取得する値"
   ]
  },
  {
   "cell_type": "code",
   "execution_count": null,
   "metadata": {},
   "outputs": [],
   "source": [
    "# key をすべて取得する -> ループで使える\n",
    "# .keys()\n",
    "\n",
    "my_dict.keys()"
   ]
  },
  {
   "cell_type": "code",
   "execution_count": null,
   "metadata": {},
   "outputs": [],
   "source": [
    "for key in my_dict.keys():\n",
    "    print(key)"
   ]
  },
  {
   "cell_type": "code",
   "execution_count": null,
   "metadata": {},
   "outputs": [],
   "source": [
    "# value をすべて取得する -> ループで使える\n",
    "# .values()\n",
    "\n",
    "my_dict.values()"
   ]
  },
  {
   "cell_type": "code",
   "execution_count": null,
   "metadata": {},
   "outputs": [],
   "source": [
    "# key, value のペアでループをする\n",
    "# .items()\n",
    "\n",
    "for k, v in my_dict.items():\n",
    "    print(k, v)"
   ]
  },
  {
   "cell_type": "code",
   "execution_count": null,
   "metadata": {},
   "outputs": [],
   "source": [
    "# 値が，そのディクショナリのkey として登録されているか確認する\n",
    "\n",
    "'03-05' in my_dict"
   ]
  },
  {
   "cell_type": "markdown",
   "execution_count": null,
   "metadata": {},
   "outputs": [],
   "source": [
    "## 集計する\n",
    "\n",
    " \"The quick brown fox jumps over the lazy dog\" に各アルファベットが何文字含まれるか数えてみよう。\n",
    "\n",
    " a が ～個，b が ～個 … といったのがわかれば良い"
   ]
  },
  {
   "cell_type": "code",
   "execution_count": null,
   "metadata": {},
   "outputs": [],
   "source": [
    "sentence = 'The quick brown fox jumps over the lazy dog'\n",
    "aggregated = {}\n",
    "\n",
    "# 集計する"
   ]
  },
  {
   "cell_type": "markdown",
   "execution_count": null,
   "metadata": {},
   "outputs": [],
   "source": [
    "## 演習問題\n",
    "\n",
    "3月の各日の，来院者数を集計して表示してください。\n",
    "\n",
    "患者データは，患者の名前と来院日から成るディクショナリで与えられます。\n",
    "\n",
    "ただし，集計結果の日付の順序は整っていなくても構いませんし，来院者が0人の日は表示してもしなくても構いません。\n",
    "\n",
    "出来て暇になった -> 来院者が0日の日も表示し，日付の順序は昇順にしてください。\n",
    "\n",
    "患者データ:\n",
    "\n",
    "```\n",
    "patients = {\n",
    "    A: [],\n",
    "    B: ['03-10', '03-11', '03-12', '03-17', '03-20', '03-25', '03-28', '03-30'],\n",
    "    C: ['03-04', '03-09', '03-10', '03-11', '03-14', '03-17', '03-18', '03-25', '03-26', '03-28'],\n",
    "    D: ['03-02', '03-04', '03-07', '03-10', '03-12', '03-17', '03-21', '03-23', '03-25', '03-27', '03-31'],\n",
    "    E: ['03-10', '03-19'],\n",
    "    F: ['03-03', '03-06', '03-09', '03-13', '03-14', '03-17', '03-24', '03-28'],\n",
    "    G: ['03-06', '03-11'],\n",
    "    H: ['03-05', '03-06', '03-11', '03-19', '03-24', '03-25'],\n",
    "    I: ['03-04', '03-05', '03-06', '03-09', '03-10', '03-12', '03-13', '03-17', '03-20', '03-24', '03-25', '03-26'],\n",
    "    J: ['03-02', '03-11', '03-13', '03-14', '03-17', '03-21'],\n",
    "    K: [],\n",
    "    L: ['03-04', '03-11', '03-17', '03-19', '03-21', '03-23', '03-26', '03-27', '03-31'],\n",
    "    M: ['03-02', '03-03', '03-05', '03-14', '03-16', '03-25', '03-27', '03-28', '03-31'],\n",
    "    N: ['03-05', '03-12', '03-19', '03-24', '03-25', '03-30', '03-31'],\n",
    "    O: ['03-07', '03-09', '03-14', '03-27'],\n",
    "    P: ['03-05', '03-06', '03-10', '03-18', '03-24', '03-27'],\n",
    "    Q: ['03-04', '03-05', '03-24', '03-25', '03-26', '03-31'],\n",
    "    R: ['03-04', '03-09', '03-10', '03-17', '03-18', '03-19', '03-20', '03-23', '03-25', '03-31'],\n",
    "    S: ['03-02', '03-06', '03-09', '03-10', '03-11', '03-13', '03-16', '03-17', '03-18', '03-21', '03-28'],\n",
    "    T: ['03-04', '03-05', '03-09', '03-13', '03-18', '03-21', '03-31'],\n",
    "    U: ['03-04', '03-21', '03-26', '03-28', '03-31'],\n",
    "    V: ['03-04', '03-07', '03-11', '03-12', '03-14', '03-19', '03-20', '03-21', '03-23'],\n",
    "    W: ['03-10', '03-18', '03-19', '03-21', '03-25', '03-30', '03-31'],\n",
    "    X: ['03-02', '03-05', '03-07'],\n",
    "    Y: [],\n",
    "    Z: ['03-04', '03-05', '03-07', '03-24', '03-30'],\n",
    "}\n",
    "```"
   ]
  },
  {
   "cell_type": "code",
   "execution_count": null,
   "metadata": {},
   "outputs": [],
   "source": [
    "# 来院者の集計"
   ]
  }
 ]
}