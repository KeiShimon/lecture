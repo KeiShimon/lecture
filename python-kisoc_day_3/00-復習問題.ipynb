{
 "nbformat": 4,
 "nbformat_minor": 2,
 "metadata": {
  "language_info": {
   "name": "python",
   "codemirror_mode": {
    "name": "ipython",
    "version": 3
   },
   "version": "3.7.6-final"
  },
  "orig_nbformat": 2,
  "file_extension": ".py",
  "mimetype": "text/x-python",
  "name": "python",
  "npconvert_exporter": "python",
  "pygments_lexer": "ipython3",
  "version": 3,
  "kernelspec": {
   "name": "python37664bitdatacondab431210f6349489194585e0f6fde0451",
   "display_name": "Python 3.7.6 64-bit ('data': conda)"
  }
 },
 "cells": [
  {
   "cell_type": "markdown",
   "execution_count": null,
   "metadata": {},
   "outputs": [],
   "source": [
    "# 問1\n",
    "\n",
    "0と1から成る番号（文字列）が与えられます。その中に1が何個含まれるかを求めてください。\n",
    "\n",
    "## 出力例 ('010')\n",
    "```\n",
    "1\n",
    "```\n",
    "\n",
    "## サンプルケース\n",
    "\n",
    "- '110001'\n",
    "- '0'\n",
    "- '1'\n"
   ]
  },
  {
   "cell_type": "code",
   "execution_count": null,
   "metadata": {},
   "outputs": [],
   "source": [
    "# 問1 の回答をここに"
   ]
  },
  {
   "cell_type": "markdown",
   "execution_count": null,
   "metadata": {},
   "outputs": [],
   "source": [
    "# 問2\n",
    "\n",
    "500円玉をA枚，100円玉をB枚，50円玉をC枚持って買い物に来ました。支払額はX円です。\n",
    "\n",
    "これらの硬貨を最も少ない枚数用い，お釣りの無いように支払う場合，それぞれの硬貨は何枚ずつ使用するか求めてください。\n",
    "\n",
    "ただし，お釣りの無いように支払うことができない場合や，所持金が足りていない場合，'Impossible' と出力すること。\n",
    "\n",
    "## 出力例 (A = 2, B = 2, C = 2, X = 100)\n",
    "\n",
    "```\n",
    "500円: 0\n",
    "100円: 1\n",
    "50円: 0\n",
    "```\n",
    "\n",
    "## サンプルケース 1\n",
    "\n",
    "```\n",
    "A = 2\n",
    "B = 2\n",
    "C = 2\n",
    "X = 100\n",
    "```\n",
    "\n",
    "## サンプルケース 2\n",
    "\n",
    "```\n",
    "A = 5\n",
    "B = 1\n",
    "C = 0\n",
    "X = 150\n",
    "```\n",
    "\n",
    "## サンプルケース 3\n",
    "\n",
    "```\n",
    "A = 4\n",
    "B = 20\n",
    "C = 20\n",
    "X = 6000\n",
    "```\n"
   ]
  },
  {
   "cell_type": "code",
   "execution_count": null,
   "metadata": {},
   "outputs": [],
   "source": [
    "# 問2 の回答をここに"
   ]
  },
  {
   "cell_type": "markdown",
   "execution_count": null,
   "metadata": {},
   "outputs": [],
   "source": [
    "# 問3\n",
    "\n",
    "あなたは友人Xとゲームをすることになりました。\n",
    "\n",
    "キャラクターの能力値が書かれたカードが何枚か並んでいるので，それらを交互に取って出来るチームを作成します。\n",
    "\n",
    "あなたは友人Xに貸しがあるので，毎回友人Xより先にカードをとることになりました。つまり，キャラクターを取る順序は，あなた→友人X→あなた→友人X→あなた... です。\n",
    "\n",
    "2人とも，チームの能力値の合計が最大となるようキャラクターを選んだ場合，あなたの作成するチームの能力値の合計と，友人Xの作成するチームの能力値の合計を求めてください。\n",
    "\n",
    "## 出力例 (カード: \\[2, 7, 4, 6\\])\n",
    "\n",
    "```\n",
    "自分: 11\n",
    "友人X: 8\n",
    "```\n",
    "\n",
    "## サンプルケース 1\n",
    "\n",
    "\\[3, 1\\]\n",
    "\n",
    "## サンプルケース 2\n",
    "\n",
    "\\[2, 7, 4\\]\n",
    "\n",
    "## サンプルケース 3\n",
    "\n",
    "\\[7, 27, 12, 10, 16, 13, 8, 27, 10, 24, 13, 4, 22, 5, 21, 19, 25, 6, 19, 25, 20, 23, 21, 19, 3, 25, 8, 26, 27\\]"
   ]
  },
  {
   "cell_type": "code",
   "execution_count": null,
   "metadata": {},
   "outputs": [],
   "source": [
    "# 問3 の回答をここに"
   ]
  }
 ]
}