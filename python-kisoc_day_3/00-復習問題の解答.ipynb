{
 "nbformat": 4,
 "nbformat_minor": 2,
 "metadata": {
  "language_info": {
   "name": "python",
   "codemirror_mode": {
    "name": "ipython",
    "version": 3
   },
   "version": "3.7.6-final"
  },
  "orig_nbformat": 2,
  "file_extension": ".py",
  "mimetype": "text/x-python",
  "name": "python",
  "npconvert_exporter": "python",
  "pygments_lexer": "ipython3",
  "version": 3,
  "kernelspec": {
   "name": "python37664bitdatacondab431210f6349489194585e0f6fde0451",
   "display_name": "Python 3.7.6 64-bit ('data': conda)"
  }
 },
 "cells": [
  {
   "cell_type": "markdown",
   "execution_count": null,
   "metadata": {},
   "outputs": [],
   "source": [
    "# 問1\n",
    "\n",
    "0と1から成る番号（文字列）が与えられます。その中に1が何個含まれるかを求めてください。\n",
    "\n",
    "## 出力例 ('010')\n",
    "```\n",
    "1\n",
    "```\n",
    "\n",
    "## サンプルケース\n",
    "\n",
    "- '110001'\n",
    "- '0'\n",
    "- '1'\n"
   ]
  },
  {
   "cell_type": "code",
   "execution_count": 1,
   "metadata": {},
   "outputs": [
    {
     "name": "stdout",
     "output_type": "stream",
     "text": "3\n"
    }
   ],
   "source": [
    "# A1 - 1\n",
    "\n",
    "zeroone_string = '110001'\n",
    "print(zeroone_string.count('1'))"
   ]
  },
  {
   "cell_type": "code",
   "execution_count": 2,
   "metadata": {},
   "outputs": [
    {
     "name": "stdout",
     "output_type": "stream",
     "text": "3\n"
    }
   ],
   "source": [
    "# A1 - 2\n",
    "\n",
    "zeroone_string = '110001'\n",
    "ans = 0\n",
    "for c in zeroone_string:\n",
    "    if c == '1':\n",
    "        ans += 1\n",
    "print(ans)"
   ]
  },
  {
   "cell_type": "markdown",
   "execution_count": null,
   "metadata": {},
   "outputs": [],
   "source": [
    "# 問2\n",
    "\n",
    "500円玉をA枚，100円玉をB枚，50円玉をC枚持って買い物に来ました。支払額はX円です。\n",
    "\n",
    "これらの硬貨を最も少ない枚数用い，お釣りの無いように支払う場合，それぞれの硬貨は何枚ずつ使用するか求めてください。\n",
    "\n",
    "ただし，お釣りの無いように支払うことができない場合や，所持金が足りていない場合，'Impossible' と出力すること。\n",
    "\n",
    "## 出力例 (A = 2, B = 2, C = 2, X = 100)\n",
    "\n",
    "```\n",
    "500円: 0\n",
    "100円: 1\n",
    "50円: 0\n",
    "```\n",
    "\n",
    "## サンプルケース 1\n",
    "\n",
    "```\n",
    "A = 2\n",
    "B = 2\n",
    "C = 2\n",
    "X = 100\n",
    "```\n",
    "\n",
    "## サンプルケース 2\n",
    "\n",
    "```\n",
    "A = 5\n",
    "B = 1\n",
    "C = 0\n",
    "X = 150\n",
    "```\n",
    "\n",
    "## サンプルケース 3\n",
    "\n",
    "```\n",
    "A = 4\n",
    "B = 20\n",
    "C = 20\n",
    "X = 6000\n",
    "```\n"
   ]
  },
  {
   "cell_type": "code",
   "execution_count": 3,
   "metadata": {},
   "outputs": [
    {
     "name": "stdout",
     "output_type": "stream",
     "text": "500: 0\n100: 1\n50: 0\n"
    }
   ],
   "source": [
    "# A2\n",
    "\n",
    "A = 2\n",
    "B = 2\n",
    "C = 2\n",
    "X = 100\n",
    "\n",
    "found_exact = False  # impossible を出力するかどうかを判定する\n",
    "best_case = [10000, 10000, 10000]  # 巨大な値で初期化する，値は十分大きければ何でも良い\n",
    "\n",
    "for five_hundred in range(A+1):\n",
    "    for one_hundred in range(B+1):\n",
    "        for fifty in range(C+1):\n",
    "            if X == 500*five_hundred + 100*one_hundred + 50*fifty:\n",
    "                found_exact = True\n",
    "                using = five_hundred + one_hundred + fifty\n",
    "                if using < sum(best_case):\n",
    "                    best_case[0] = five_hundred\n",
    "                    best_case[1] = one_hundred\n",
    "                    best_case[2] = fifty\n",
    "\n",
    "if found_exact:\n",
    "    print('500: ' + str(best_case[0]))\n",
    "    print('100: ' + str(best_case[1]))\n",
    "    print('50: ' + str(best_case[2]))\n",
    "else:\n",
    "    print('impossible')"
   ]
  },
  {
   "cell_type": "markdown",
   "execution_count": null,
   "metadata": {},
   "outputs": [],
   "source": [
    "# 問3\n",
    "\n",
    "あなたは友人Xとゲームをすることになりました。\n",
    "\n",
    "キャラクターの能力値が書かれたカードが何枚か並んでいるので，それらを交互に取って出来るチームを作成します。\n",
    "\n",
    "あなたは友人Xに貸しがあるので，毎回友人Xより先にカードをとることになりました。つまり，キャラクターを取る順序は，あなた→友人X→あなた→友人X→あなた... です。\n",
    "\n",
    "2人とも，チームの能力値の合計が最大となるようキャラクターを選んだ場合，あなたの作成するチームの能力値の合計と，友人Xの作成するチームの能力値の合計を求めてください。\n",
    "\n",
    "## 出力例 (カード: \\[2, 7, 4, 6\\])\n",
    "\n",
    "```\n",
    "自分: 11\n",
    "友人X: 8\n",
    "```\n",
    "\n",
    "## サンプルケース 1\n",
    "\n",
    "\\[3, 1\\]\n",
    "\n",
    "## サンプルケース 2\n",
    "\n",
    "\\[2, 7, 4\\]\n",
    "\n",
    "## サンプルケース 3\n",
    "\n",
    "\\[7, 27, 12, 10, 16, 13, 8, 27, 10, 24, 13, 4, 22, 5, 21, 19, 25, 6, 19, 25, 20, 23, 21, 19, 3, 25, 8, 26, 27\\]"
   ]
  },
  {
   "cell_type": "code",
   "execution_count": 4,
   "metadata": {},
   "outputs": [
    {
     "name": "stdout",
     "output_type": "stream",
     "text": "自分: 249\n友人X: 236\n"
    }
   ],
   "source": [
    "# A3\n",
    "\n",
    "characters = [7, 27, 12, 10, 16, 13, 8, 27, 10, 24, 13, 4, 22, 5, 21, 19, 25, 6, 19, 25, 20, 23, 21, 19, 3, 25, 8, 26, 27]\n",
    "characters.sort(reverse=True)\n",
    "\n",
    "you = 0\n",
    "friend = 0\n",
    "for i in range(len(characters)):\n",
    "    if i % 2 == 0:\n",
    "        you += characters[i]\n",
    "    else:\n",
    "        friend += characters[i]\n",
    "\n",
    "print('自分: ' + str(you))\n",
    "print('友人X: ' + str(friend))"
   ]
  },
  {
   "cell_type": "code",
   "execution_count": null,
   "metadata": {},
   "outputs": [],
   "source": []
  }
 ]
}