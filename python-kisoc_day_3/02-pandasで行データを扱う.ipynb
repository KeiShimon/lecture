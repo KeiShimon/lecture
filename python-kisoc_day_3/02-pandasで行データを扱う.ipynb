{
 "nbformat": 4,
 "nbformat_minor": 2,
 "metadata": {
  "language_info": {
   "name": "python",
   "codemirror_mode": {
    "name": "ipython",
    "version": 3
   },
   "version": "3.7.6-final"
  },
  "orig_nbformat": 2,
  "file_extension": ".py",
  "mimetype": "text/x-python",
  "name": "python",
  "npconvert_exporter": "python",
  "pygments_lexer": "ipython3",
  "version": 3,
  "kernelspec": {
   "name": "python37664bitdatacondab431210f6349489194585e0f6fde0451",
   "display_name": "Python 3.7.6 64-bit ('data': conda)"
  }
 },
 "cells": [
  {
   "cell_type": "markdown",
   "execution_count": null,
   "metadata": {},
   "outputs": [],
   "source": [
    "# 行データの扱い\n",
    "\n",
    "## 目標\n",
    "\n",
    "- 行列データを扱う準備として，まずは行だけのデータを扱えるようになる。\n",
    "- モジュールとは何かぼんやりわかるようになる\n",
    "\n",
    "## 目次\n",
    "\n",
    "- モジュールとは何か\n",
    "- pandas モジュールを用いた行データ Series の定義\n",
    "- Series のメソッド"
   ]
  },
  {
   "cell_type": "markdown",
   "execution_count": null,
   "metadata": {},
   "outputs": [],
   "source": [
    "## モジュールとは\n",
    "\n",
    "たくさんの機能をたくさん集めたもの。\n",
    "\n",
    "手に持てば魔法が使えるようになる魔導書のようなもの。魔法をPythonに置き換えるなら，\n",
    "\n",
    "- 魔導書 = モジュール\n",
    "- 魔導書を手に取る = インポート\n",
    "- 魔法 = モジュール内の便利な機能たち\n",
    "\n",
    "モジュールは再現なくあるので，その場その場で必要なものをインポートして使えるようにする。\n"
   ]
  },
  {
   "cell_type": "markdown",
   "execution_count": null,
   "metadata": {},
   "outputs": [],
   "source": [
    "## モジュールの例: math\n",
    "\n",
    "数学的なことをしたいときに便利なモジュール"
   ]
  },
  {
   "cell_type": "code",
   "execution_count": null,
   "metadata": {},
   "outputs": [],
   "source": [
    "import math"
   ]
  },
  {
   "cell_type": "code",
   "execution_count": null,
   "metadata": {},
   "outputs": [],
   "source": [
    "# math. とタイプすると，math モジュール内にあるものがリストされる\n",
    "# だいたいは関数です\n"
   ]
  },
  {
   "cell_type": "markdown",
   "execution_count": null,
   "metadata": {},
   "outputs": [],
   "source": [
    "math モジュールの関数をいくつか紹介する。"
   ]
  },
  {
   "cell_type": "code",
   "execution_count": null,
   "metadata": {},
   "outputs": [],
   "source": [
    "# 切り下げ\n",
    "math.floor(3.14)"
   ]
  },
  {
   "cell_type": "code",
   "execution_count": null,
   "metadata": {},
   "outputs": [],
   "source": [
    "# 切り下げ\n",
    "math.ceil(3.14)"
   ]
  },
  {
   "cell_type": "code",
   "execution_count": null,
   "metadata": {},
   "outputs": [],
   "source": [
    "# log 底を指定する\n",
    "math.log(16, 4)"
   ]
  },
  {
   "cell_type": "code",
   "execution_count": null,
   "metadata": {},
   "outputs": [],
   "source": [
    "# log 低を指定しなければ自然対数\n",
    "math.log(2.7183)"
   ]
  },
  {
   "cell_type": "code",
   "execution_count": null,
   "metadata": {},
   "outputs": [],
   "source": [
    "# log 底2\n",
    "math.log2(64)"
   ]
  },
  {
   "cell_type": "markdown",
   "execution_count": null,
   "metadata": {},
   "outputs": [],
   "source": [
    "「log2 を何度も使用するから，毎回 math.log2 と入力するのも大変だしコードも長くなってしまうなあ」といったことを思うことは多々ある。\n",
    "\n",
    "そういうときは..."
   ]
  },
  {
   "cell_type": "code",
   "execution_count": null,
   "metadata": {},
   "outputs": [],
   "source": [
    "from math import log2\n",
    "# math モジュールから log2 のみをインポートする"
   ]
  },
  {
   "cell_type": "code",
   "execution_count": null,
   "metadata": {},
   "outputs": [],
   "source": [
    "log2(2048)  # math. が要らなくなった！"
   ]
  },
  {
   "cell_type": "markdown",
   "execution_count": null,
   "metadata": {},
   "outputs": [],
   "source": [
    "# pandas \n",
    "\n",
    "行データ，行列データの操作全般を行うことができるモジュール。\n",
    "\n",
    "これを使い倒せるようになるのが，全3回の最終目標！！！"
   ]
  },
  {
   "cell_type": "code",
   "execution_count": null,
   "metadata": {},
   "outputs": [],
   "source": [
    "import pandas as pd  # as を使うと，短い名前でそのモジュールを使える"
   ]
  },
  {
   "cell_type": "markdown",
   "execution_count": null,
   "metadata": {},
   "outputs": [],
   "source": [
    "## 行データ: Series\n",
    "\n",
    "pandas では，行データは Series という名前で扱う\n",
    "\n",
    "行データは，並んだ一本のデータなので，リスト型に似ている。"
   ]
  },
  {
   "cell_type": "code",
   "execution_count": null,
   "metadata": {},
   "outputs": [],
   "source": [
    "from pandas import Series"
   ]
  },
  {
   "cell_type": "code",
   "execution_count": null,
   "metadata": {},
   "outputs": [],
   "source": [
    "# define\n",
    "ser = Series([3, 9, 27, 81])\n",
    "\n",
    "# show\n",
    "ser"
   ]
  },
  {
   "cell_type": "markdown",
   "execution_count": null,
   "metadata": {},
   "outputs": [],
   "source": [
    "データの左についている 0, 1, 2, 3 の列をインデックスという。データの識別子だと思えばOK。\n",
    "\n",
    "インデックスは，何も指定しない場合，0から始まる順列が割り振られる。\n",
    "\n",
    "インデックスは好きな値を設定することができる。"
   ]
  },
  {
   "cell_type": "code",
   "execution_count": null,
   "metadata": {},
   "outputs": [],
   "source": [
    "# WW2 casualities\n",
    "ww2_casualities = Series(\n",
    "    [2100000, 3000000, 4400000, 8700000, 400000],\n",
    "    index= ['Japan', 'China', 'Germany', 'USSR', 'US']\n",
    ")\n",
    "\n",
    "ww2_casualities"
   ]
  },
  {
   "cell_type": "code",
   "execution_count": null,
   "metadata": {},
   "outputs": [],
   "source": [
    "# 参照\n",
    "ww2_casualities['Japan']"
   ]
  },
  {
   "cell_type": "code",
   "execution_count": null,
   "metadata": {},
   "outputs": [],
   "source": [
    "# Python 的インデックス参照\n",
    "ww2_casualities[0]"
   ]
  },
  {
   "cell_type": "code",
   "execution_count": null,
   "metadata": {},
   "outputs": [],
   "source": [
    "# show ser again\n",
    "ser"
   ]
  },
  {
   "cell_type": "code",
   "execution_count": null,
   "metadata": {},
   "outputs": [],
   "source": [
    "# ser の参照\n",
    "ser[3]"
   ]
  },
  {
   "cell_type": "code",
   "execution_count": null,
   "metadata": {},
   "outputs": [],
   "source": [
    "# インデックスがごちゃごちゃの場合\n",
    "ser = Series([3, 9, 27, 81], index=[2,1,0,3])\n",
    "\n",
    "ser"
   ]
  },
  {
   "cell_type": "code",
   "execution_count": null,
   "metadata": {},
   "outputs": [],
   "source": [
    "# Python的インデックスと，pandas のインデックスの優先順位は？\n",
    "ser[0]"
   ]
  },
  {
   "cell_type": "code",
   "execution_count": null,
   "metadata": {},
   "outputs": [],
   "source": [
    "# 条件で指定できる\n",
    "ww2_casualities[ww2_casualities > 3000000]"
   ]
  },
  {
   "cell_type": "code",
   "execution_count": null,
   "metadata": {},
   "outputs": [],
   "source": [
    "# インデックスの存在確認\n",
    "\n",
    "'USSR' in ww2_casualities"
   ]
  },
  {
   "cell_type": "markdown",
   "execution_count": null,
   "metadata": {},
   "outputs": [],
   "source": [
    "### Series の定義方法"
   ]
  },
  {
   "cell_type": "code",
   "execution_count": null,
   "metadata": {},
   "outputs": [],
   "source": [
    "# さっきの(再掲)\n",
    "\n",
    "ww2_casualities = Series(\n",
    "    [2100000, 3000000, 4400000, 8700000, 400000],\n",
    "    index= ['Japan', 'China', 'Germany', 'USSR', 'US']\n",
    ")\n",
    "\n",
    "ww2_casualities"
   ]
  },
  {
   "cell_type": "code",
   "execution_count": null,
   "metadata": {},
   "outputs": [],
   "source": [
    "# リスト型変数を用いる場合\n",
    "\n",
    "casualities = [2100000, 3000000, 4400000, 8700000, 400000]\n",
    "countries = ['Japan', 'China', 'Germany', 'USSR', 'US']\n",
    "# 数をあわせること\n",
    "\n",
    "ww2_casualities = Series(casualities, index=countries)\n",
    "\n",
    "ww2_casualities"
   ]
  },
  {
   "cell_type": "code",
   "execution_count": null,
   "metadata": {},
   "outputs": [],
   "source": [
    "# ディクショナリを使う場合 (定義方法としてはマイナーだが，視覚的にわかりやすい。ただし手打ちが面倒。)\n",
    "\n",
    "ww2_casualities = Series({\n",
    "    'Japan': 2100000,\n",
    "    'China': 3000000,\n",
    "    'Germany': 4400000,\n",
    "    'USSR': 8700000,\n",
    "    'US': 400000}\n",
    ")\n",
    "\n",
    "ww2_casualities"
   ]
  },
  {
   "cell_type": "markdown",
   "execution_count": null,
   "metadata": {},
   "outputs": [],
   "source": [
    "### Series のメソッド\n",
    "\n",
    "めちゃくちゃ多いのでほんの一部のみ。"
   ]
  },
  {
   "cell_type": "code",
   "execution_count": null,
   "metadata": {},
   "outputs": [],
   "source": [
    "# iteritems()\n",
    "# index, value のペアを全部取り出す\n",
    "# ディクショナリの items() に該当する\n",
    "\n",
    "for index, value in ww2_casualities.iteritems():\n",
    "    print(index, value)"
   ]
  },
  {
   "cell_type": "code",
   "execution_count": null,
   "metadata": {},
   "outputs": [],
   "source": [
    "# .sort_index()\n",
    "# インデックスでソート\n",
    "\n",
    "ww2_casualities.sort_index()"
   ]
  },
  {
   "cell_type": "code",
   "execution_count": null,
   "metadata": {},
   "outputs": [],
   "source": [
    "# .sort_values()\n",
    "# 特定の列の値でソート\n",
    "\n",
    "ww2_casualities.sort_values()"
   ]
  },
  {
   "cell_type": "code",
   "execution_count": null,
   "metadata": {},
   "outputs": [],
   "source": [
    "# .isnull()\n",
    "# 空白データか否か\n",
    "\n",
    "ww2_casualities.isnull()"
   ]
  },
  {
   "cell_type": "code",
   "execution_count": null,
   "metadata": {},
   "outputs": [],
   "source": [
    "# .isnull().any()\n",
    "# 空白データが1つでもあるかどうか\n",
    "# ミス検出で使える\n",
    "\n",
    "ww2_casualities.isnull().any()"
   ]
  },
  {
   "cell_type": "markdown",
   "execution_count": null,
   "metadata": {},
   "outputs": [],
   "source": [
    "### 以下は余力のある人向け\n",
    "\n",
    "**Series の作成時に，末尾にデータをどんどん追加していくことは推奨されません。**\n",
    "\n",
    "Series の末尾にデータを追加するメソッドに，.append()があります（リストの.append() と同じメソッド名です）。そのため，以下のコードは実行可能ではあります。\n",
    "\n",
    "``` Python\n",
    "s1 = pd.Series([1, 2, 3])\n",
    "s1.append([4], index=[3])\n",
    "```\n",
    "\n",
    "実行可能なのになぜ基本的にやらないかを説明する前に，まず下のコードを実行してみてください。"
   ]
  },
  {
   "cell_type": "code",
   "execution_count": null,
   "metadata": {},
   "outputs": [],
   "source": [
    "s1 = Series([1, 2, 3])\n",
    "s1.append(Series([4], index=[3]))"
   ]
  },
  {
   "cell_type": "markdown",
   "execution_count": null,
   "metadata": {},
   "outputs": [],
   "source": [
    ".append() した結果が出力されます。Series の .append() は，append した結果のSeries をゼロから作り直すからです。\n",
    "\n",
    "Series の .append() は，データの内部を変更せず，末尾に新たなデータを足した場合の結果を示します。\n",
    "\n",
    "では，元の Series には変更がないことを確認しましょう。"
   ]
  },
  {
   "cell_type": "code",
   "execution_count": null,
   "metadata": {},
   "outputs": [],
   "source": [
    "s1"
   ]
  },
  {
   "cell_type": "markdown",
   "execution_count": null,
   "metadata": {},
   "outputs": [],
   "source": [
    "これはリスト型の .append() とは全く異なる挙動です。\n",
    "\n",
    "リスト型で同じコードを実行して，挙動の違いを確認してください。"
   ]
  },
  {
   "cell_type": "code",
   "execution_count": null,
   "metadata": {},
   "outputs": [],
   "source": [
    "lis = [1, 2, 3]\n",
    "lis.append(4)"
   ]
  },
  {
   "cell_type": "markdown",
   "execution_count": null,
   "metadata": {},
   "outputs": [],
   "source": [
    "結果が表示されません。\n",
    "\n",
    "リスト の .append() は，データの内部を変更します。そのため，ゼロからデータを作り替えることをしません。\n",
    "\n",
    "ちゃんと内部が更新されていることを確認しておきましょう。"
   ]
  },
  {
   "cell_type": "code",
   "execution_count": null,
   "metadata": {},
   "outputs": [],
   "source": [
    "lis"
   ]
  },
  {
   "cell_type": "markdown",
   "execution_count": null,
   "metadata": {},
   "outputs": [],
   "source": [
    ".append() の挙動の違いは：\n",
    "\n",
    "- Series の .append() は，データの内部を変更せず，末尾に新たなデータを足した結果を新たにゼロから生成する\n",
    "- リスト の .append() は，データの内部を変更する。末尾にデータをくっつけるだけ\n",
    "\n",
    "つまり，Series の場合，append() するたびにデータを作り直す点で，データ生成のコストが非常に高いです。\n",
    "\n",
    "1000個のデータから成る Series を作る場合\n",
    "\n",
    "- リストを利用する：1000個のデータを1つのリストの末尾にどんどんくっつけて，最後に Series にして終わり。\n",
    "  - データの処理：2000 回\n",
    "- Series を利用する：1個のSeries を新たに生成，2個目をくっつけて，2個のデータから成るSeries を生成，3個目をくっつけて，3個のデータから成るSeries を生成...\n",
    "  - データの処理: (1000+1) * 1000 / 2 = 500500 回\n",
    "\n",
    "10000個のデータから成る Series を作る場合\n",
    "\n",
    "- リスト：20000 回\n",
    "- Series：50005000 回\n",
    "\n",
    "このように，新しい Series を定義するときは，基本的にリストを用いるべきです。Series の .append() は，Series の定義後どうしても少しデータを追加したいときなど，仕方なく使う程度にとどめましょう。\n"
   ]
  },
  {
   "cell_type": "code",
   "execution_count": null,
   "metadata": {},
   "outputs": [],
   "source": []
  }
 ]
}