{
 "nbformat": 4,
 "nbformat_minor": 2,
 "metadata": {
  "language_info": {
   "name": "python",
   "codemirror_mode": {
    "name": "ipython",
    "version": 3
   },
   "version": "3.7.6-final"
  },
  "orig_nbformat": 2,
  "file_extension": ".py",
  "mimetype": "text/x-python",
  "name": "python",
  "npconvert_exporter": "python",
  "pygments_lexer": "ipython3",
  "version": 3,
  "kernelspec": {
   "name": "python37664bitdatacondab431210f6349489194585e0f6fde0451",
   "display_name": "Python 3.7.6 64-bit ('data': conda)"
  }
 },
 "cells": [
  {
   "cell_type": "markdown",
   "metadata": {},
   "source": [
    "## モジュールとは\n",
    "\n",
    "たくさんの機能をたくさん集めたもの。\n",
    "\n",
    "手に持てば魔法が使えるようになる魔導書のようなもの。魔法をPythonに置き換えるなら，\n",
    "\n",
    "- 魔導書 = モジュール\n",
    "- 魔導書を手に取る = インポート\n",
    "- 魔法 = モジュール内の便利な機能たち\n",
    "\n",
    "モジュールは再現なくあるので，その場その場で必要なものをインポートして使えるようにする。\n"
   ]
  },
  {
   "cell_type": "markdown",
   "metadata": {},
   "source": [
    "## モジュールの例: math\n",
    "\n",
    "数学的なことをしたいときに便利なモジュール"
   ]
  },
  {
   "cell_type": "code",
   "execution_count": 2,
   "metadata": {},
   "outputs": [],
   "source": [
    "import math"
   ]
  },
  {
   "cell_type": "code",
   "execution_count": 3,
   "metadata": {},
   "outputs": [],
   "source": [
    "# math. とタイプすると，math モジュール内にあるものがリストされる\n",
    "# だいたいは関数です\n"
   ]
  },
  {
   "cell_type": "markdown",
   "metadata": {},
   "source": [
    "math モジュールの関数をいくつか紹介する。"
   ]
  },
  {
   "cell_type": "code",
   "execution_count": 4,
   "metadata": {},
   "outputs": [
    {
     "data": {
      "text/plain": "3"
     },
     "execution_count": 4,
     "metadata": {},
     "output_type": "execute_result"
    }
   ],
   "source": [
    "# 切り下げ\n",
    "math.floor(3.14)"
   ]
  },
  {
   "cell_type": "code",
   "execution_count": 5,
   "metadata": {},
   "outputs": [
    {
     "data": {
      "text/plain": "4"
     },
     "execution_count": 5,
     "metadata": {},
     "output_type": "execute_result"
    }
   ],
   "source": [
    "# 切り下げ\n",
    "math.ceil(3.14)"
   ]
  },
  {
   "cell_type": "code",
   "execution_count": 6,
   "metadata": {},
   "outputs": [
    {
     "data": {
      "text/plain": "2.0"
     },
     "execution_count": 6,
     "metadata": {},
     "output_type": "execute_result"
    }
   ],
   "source": [
    "# log 底を指定する\n",
    "math.log(16, 4)"
   ]
  },
  {
   "cell_type": "code",
   "execution_count": 7,
   "metadata": {},
   "outputs": [
    {
     "data": {
      "text/plain": "1.0000066849139877"
     },
     "execution_count": 7,
     "metadata": {},
     "output_type": "execute_result"
    }
   ],
   "source": [
    "# log 低を指定しなければ自然対数\n",
    "math.log(2.7183)"
   ]
  },
  {
   "cell_type": "code",
   "execution_count": 8,
   "metadata": {},
   "outputs": [
    {
     "data": {
      "text/plain": "6.0"
     },
     "execution_count": 8,
     "metadata": {},
     "output_type": "execute_result"
    }
   ],
   "source": [
    "# log 底2\n",
    "math.log2(64)"
   ]
  },
  {
   "cell_type": "code",
   "execution_count": 9,
   "metadata": {},
   "outputs": [
    {
     "data": {
      "text/plain": "125.0"
     },
     "execution_count": 9,
     "metadata": {},
     "output_type": "execute_result"
    }
   ],
   "source": [
    "# 累乗\n",
    "math.pow(5, 3)"
   ]
  },
  {
   "cell_type": "markdown",
   "metadata": {},
   "source": [
    "「log2 を何度も使用するから，毎回 math.log2 と入力するのも大変だしコードも長くなってしまうなあ」といったことを思うことは多々ある\n",
    "\n",
    "そういうときは..."
   ]
  },
  {
   "cell_type": "code",
   "execution_count": 10,
   "metadata": {},
   "outputs": [],
   "source": [
    "from math import log2\n",
    "# math モジュールから log2 のみをインポートする"
   ]
  },
  {
   "cell_type": "code",
   "execution_count": 11,
   "metadata": {},
   "outputs": [
    {
     "data": {
      "text/plain": "11.0"
     },
     "execution_count": 11,
     "metadata": {},
     "output_type": "execute_result"
    }
   ],
   "source": [
    "log2(2048)  # math. が要らなくなった！"
   ]
  },
  {
   "cell_type": "markdown",
   "metadata": {},
   "source": [
    "# pandas \n",
    "\n",
    "行データ，行列データの操作全般を行うことができるモジュール\n",
    "\n",
    "これを使い倒せるようになるのが，全3回の最終目標！！！"
   ]
  },
  {
   "cell_type": "code",
   "execution_count": 12,
   "metadata": {},
   "outputs": [],
   "source": [
    "import pandas as pd  # as を使うと，短い名前でそのモジュールを使える"
   ]
  },
  {
   "cell_type": "markdown",
   "metadata": {},
   "source": [
    "## 行データ: Series\n",
    "\n",
    "pandas では，行データは Series という名前で扱う\n",
    "\n",
    "行データは，並んだ一本のデータなので，リスト型に似ている。"
   ]
  },
  {
   "cell_type": "code",
   "execution_count": 13,
   "metadata": {},
   "outputs": [],
   "source": [
    "from pandas import Series"
   ]
  },
  {
   "cell_type": "code",
   "execution_count": 14,
   "metadata": {},
   "outputs": [
    {
     "data": {
      "text/plain": "0     3\n1     9\n2    27\n3    81\ndtype: int64"
     },
     "execution_count": 14,
     "metadata": {},
     "output_type": "execute_result"
    }
   ],
   "source": [
    "# define\n",
    "ser = Series([3, 9, 27, 81])\n",
    "\n",
    "# show\n",
    "ser"
   ]
  },
  {
   "cell_type": "markdown",
   "metadata": {},
   "source": [
    "データの左についている 0, 1, 2, 3 の列をインデックスという。データの識別子だと思えばOK。\n",
    "\n",
    "インデックスは，何も指定しない場合，0から始まる順列が割り振られる。\n",
    "\n",
    "インデックスは好きな値を設定することができる。"
   ]
  },
  {
   "cell_type": "code",
   "execution_count": 15,
   "metadata": {},
   "outputs": [
    {
     "data": {
      "text/plain": "Japan      2100000\nChina      3000000\nGermany    4400000\nUSSR       8700000\nUS          400000\ndtype: int64"
     },
     "execution_count": 15,
     "metadata": {},
     "output_type": "execute_result"
    }
   ],
   "source": [
    "# WW2 casualities\n",
    "ww2_casualities = Series(\n",
    "    [2100000, 3000000, 4400000, 8700000, 400000],\n",
    "    index= ['Japan', 'China', 'Germany', 'USSR', 'US']\n",
    ")\n",
    "\n",
    "ww2_casualities"
   ]
  },
  {
   "cell_type": "code",
   "execution_count": 16,
   "metadata": {},
   "outputs": [
    {
     "data": {
      "text/plain": "2100000"
     },
     "execution_count": 16,
     "metadata": {},
     "output_type": "execute_result"
    }
   ],
   "source": [
    "# 参照\n",
    "ww2_casualities['Japan']"
   ]
  },
  {
   "cell_type": "code",
   "execution_count": 17,
   "metadata": {},
   "outputs": [
    {
     "data": {
      "text/plain": "2100000"
     },
     "execution_count": 17,
     "metadata": {},
     "output_type": "execute_result"
    }
   ],
   "source": [
    "# Python 的インデックス参照\n",
    "ww2_casualities[0]"
   ]
  },
  {
   "cell_type": "code",
   "execution_count": 18,
   "metadata": {},
   "outputs": [
    {
     "data": {
      "text/plain": "2     3\n1     9\n0    27\n3    81\ndtype: int64"
     },
     "execution_count": 18,
     "metadata": {},
     "output_type": "execute_result"
    }
   ],
   "source": [
    "# インデックスがごちゃごちゃの場合\n",
    "ser = Series([3, 9, 27, 81], index=[2,1,0,3])\n",
    "\n",
    "ser"
   ]
  },
  {
   "cell_type": "code",
   "execution_count": 19,
   "metadata": {},
   "outputs": [
    {
     "data": {
      "text/plain": "27"
     },
     "execution_count": 19,
     "metadata": {},
     "output_type": "execute_result"
    }
   ],
   "source": [
    "# Python的インデックスと，pandas のインデックスの優先順位は？\n",
    "ser[0]"
   ]
  },
  {
   "cell_type": "code",
   "execution_count": 20,
   "metadata": {},
   "outputs": [
    {
     "data": {
      "text/plain": "Germany    4400000\nUSSR       8700000\ndtype: int64"
     },
     "execution_count": 20,
     "metadata": {},
     "output_type": "execute_result"
    }
   ],
   "source": [
    "# 条件で指定できる\n",
    "ww2_casualities[ww2_casualities > 3000000]"
   ]
  },
  {
   "cell_type": "code",
   "execution_count": 21,
   "metadata": {},
   "outputs": [
    {
     "data": {
      "text/plain": "True"
     },
     "execution_count": 21,
     "metadata": {},
     "output_type": "execute_result"
    }
   ],
   "source": [
    "# インデックスの存在確認\n",
    "\n",
    "'USSR' in ww2_casualities"
   ]
  },
  {
   "cell_type": "markdown",
   "metadata": {},
   "source": [
    "### Series の定義方法"
   ]
  },
  {
   "cell_type": "code",
   "execution_count": 22,
   "metadata": {},
   "outputs": [
    {
     "data": {
      "text/plain": "Japan      2100000\nChina      3000000\nGermany    4400000\nUSSR       8700000\nUS          400000\ndtype: int64"
     },
     "execution_count": 22,
     "metadata": {},
     "output_type": "execute_result"
    }
   ],
   "source": [
    "# さっきの(再掲)\n",
    "\n",
    "ww2_casualities = Series(\n",
    "    [2100000, 3000000, 4400000, 8700000, 400000],\n",
    "    index= ['Japan', 'China', 'Germany', 'USSR', 'US']\n",
    ")\n",
    "\n",
    "ww2_casualities"
   ]
  },
  {
   "cell_type": "code",
   "execution_count": 23,
   "metadata": {},
   "outputs": [
    {
     "data": {
      "text/plain": "Japan      2100000\nChina      3000000\nGermany    4400000\nUSSR       8700000\nUS          400000\ndtype: int64"
     },
     "execution_count": 23,
     "metadata": {},
     "output_type": "execute_result"
    }
   ],
   "source": [
    "# リスト型変数を用いる場合\n",
    "\n",
    "casualities = [2100000, 3000000, 4400000, 8700000, 400000]\n",
    "countries = ['Japan', 'China', 'Germany', 'USSR', 'US']\n",
    "\n",
    "ww2_casualities = Series(casualities, countries)\n",
    "\n",
    "ww2_casualities"
   ]
  },
  {
   "cell_type": "markdown",
   "metadata": {},
   "source": [
    "定義にリストを用いるメリット\n",
    "\n",
    "- データ型が単純なので実装が単純\n",
    "\n",
    "デメリット\n",
    "\n",
    "- データの順番の対応付けを間違えてはならないのが少し難しい\n",
    "- データの数が合わなくてエラーとなってしまうことがしばしばある\n"
   ]
  },
  {
   "cell_type": "code",
   "execution_count": 24,
   "metadata": {},
   "outputs": [
    {
     "data": {
      "text/plain": "Japan      2100000\nChina      3000000\nGermany    4400000\nUSSR       8700000\nUS          400000\ndtype: int64"
     },
     "execution_count": 24,
     "metadata": {},
     "output_type": "execute_result"
    }
   ],
   "source": [
    "# ディクショナリを使う場合\n",
    "\n",
    "ww2_casualities = Series({\n",
    "    'Japan': 2100000,\n",
    "    'China': 3000000,\n",
    "    'Germany': 4400000,\n",
    "    'USSR': 8700000,\n",
    "    'US': 400000}\n",
    ")\n",
    "\n",
    "ww2_casualities"
   ]
  },
  {
   "cell_type": "markdown",
   "metadata": {},
   "source": [
    "定義にディクショナリを用いるメリット\n",
    "\n",
    "- 少数のデータの場合，自分で定義しているときに分かりやすい\n",
    "\n",
    "デメリット\n",
    "\n",
    "- 手打ちはかなり面倒"
   ]
  },
  {
   "cell_type": "markdown",
   "metadata": {},
   "source": [
    "### Series のメソッド\n",
    "\n",
    "めちゃくちゃ多いのでほんの一部のみ"
   ]
  },
  {
   "cell_type": "code",
   "execution_count": 25,
   "metadata": {},
   "outputs": [
    {
     "name": "stdout",
     "output_type": "stream",
     "text": "Japan 2100000\nChina 3000000\nGermany 4400000\nUSSR 8700000\nUS 400000\n"
    }
   ],
   "source": [
    "# iteritems()\n",
    "# index, value のペアを全部取り出す\n",
    "# ディクショナリの items() に該当する\n",
    "\n",
    "for index, value in ww2_casualities.iteritems():\n",
    "    print(index, value)"
   ]
  },
  {
   "cell_type": "code",
   "execution_count": 26,
   "metadata": {},
   "outputs": [
    {
     "data": {
      "text/plain": "China      3000000\nGermany    4400000\nJapan      2100000\nUS          400000\nUSSR       8700000\ndtype: int64"
     },
     "execution_count": 26,
     "metadata": {},
     "output_type": "execute_result"
    }
   ],
   "source": [
    "# .sort_index()\n",
    "# インデックスでソート\n",
    "\n",
    "ww2_casualities.sort_index()"
   ]
  },
  {
   "cell_type": "code",
   "execution_count": 27,
   "metadata": {},
   "outputs": [
    {
     "data": {
      "text/plain": "US          400000\nJapan      2100000\nChina      3000000\nGermany    4400000\nUSSR       8700000\ndtype: int64"
     },
     "execution_count": 27,
     "metadata": {},
     "output_type": "execute_result"
    }
   ],
   "source": [
    "# .sort_values()\n",
    "# 特定の列の値でソート\n",
    "\n",
    "ww2_casualities.sort_values()"
   ]
  },
  {
   "cell_type": "code",
   "execution_count": 28,
   "metadata": {},
   "outputs": [
    {
     "data": {
      "text/plain": "Japan      False\nChina      False\nGermany    False\nUSSR       False\nUS         False\ndtype: bool"
     },
     "execution_count": 28,
     "metadata": {},
     "output_type": "execute_result"
    }
   ],
   "source": [
    "# .isnull()\n",
    "# 空白データか否か\n",
    "\n",
    "ww2_casualities.isnull()"
   ]
  },
  {
   "cell_type": "code",
   "execution_count": 29,
   "metadata": {},
   "outputs": [
    {
     "data": {
      "text/plain": "False"
     },
     "execution_count": 29,
     "metadata": {},
     "output_type": "execute_result"
    }
   ],
   "source": [
    "# .isnull().any()\n",
    "# 空白データが1つでもあるかどうか\n",
    "# ミス検出で使える\n",
    "\n",
    "ww2_casualities.isnull().any()"
   ]
  },
  {
   "cell_type": "markdown",
   "metadata": {},
   "source": [
    "### 以下は余力のある人向け\n",
    "\n",
    "**Series の作成時に，末尾にデータをどんどん追加していくことは推奨されません。**\n",
    "\n",
    "Series の末尾にデータを追加するメソッドに，.append()があります（リストの.append() と同じメソッド名です）。そのため，以下のコードは実行可能ではあります。\n",
    "\n",
    "``` Python\n",
    "s1 = pd.Series([1, 2, 3])\n",
    "s1.append([4], index=[3])\n",
    "```\n",
    "\n",
    "実行可能なのになぜ基本的にやらないかを説明する前に，まず下のコードを実行してみてください。"
   ]
  },
  {
   "cell_type": "code",
   "execution_count": 31,
   "metadata": {},
   "outputs": [
    {
     "data": {
      "text/plain": "0    1\n1    2\n2    3\n3    4\ndtype: int64"
     },
     "execution_count": 31,
     "metadata": {},
     "output_type": "execute_result"
    }
   ],
   "source": [
    "s1 = Series([1, 2, 3])\n",
    "s1.append(Series([4], index=[3]))"
   ]
  },
  {
   "cell_type": "markdown",
   "metadata": {},
   "source": [
    ".append() した結果が出力されます。Series の .append() は，append した結果のSeries をゼロから作り直すからです。\n",
    "\n",
    "Series の .append() は，データの内部を変更せず，末尾に新たなデータを足した場合の結果を示します。\n",
    "\n",
    "では，元の Series には変更がないことを確認しましょう。"
   ]
  },
  {
   "cell_type": "code",
   "execution_count": 32,
   "metadata": {},
   "outputs": [
    {
     "data": {
      "text/plain": "0    1\n1    2\n2    3\ndtype: int64"
     },
     "execution_count": 32,
     "metadata": {},
     "output_type": "execute_result"
    }
   ],
   "source": [
    "s1"
   ]
  },
  {
   "cell_type": "markdown",
   "metadata": {},
   "source": [
    "これはリスト型の .append() とは全く異なる挙動です。\n",
    "\n",
    "リスト型で同じコードを実行して，挙動の違いを確認してください。"
   ]
  },
  {
   "cell_type": "code",
   "execution_count": 33,
   "metadata": {},
   "outputs": [],
   "source": [
    "lis = [1, 2, 3]\n",
    "lis.append(4)"
   ]
  },
  {
   "cell_type": "markdown",
   "metadata": {},
   "source": [
    "結果が表示されません。\n",
    "\n",
    "リスト の .append() は，データの内部を変更します。そのため，ゼロからデータを作り替えることをしません。\n",
    "\n",
    "ちゃんと内部が更新されていることを確認しておきましょう。"
   ]
  },
  {
   "cell_type": "code",
   "execution_count": 34,
   "metadata": {},
   "outputs": [
    {
     "data": {
      "text/plain": "[1, 2, 3, 4]"
     },
     "execution_count": 34,
     "metadata": {},
     "output_type": "execute_result"
    }
   ],
   "source": [
    "lis"
   ]
  },
  {
   "cell_type": "markdown",
   "metadata": {},
   "source": [
    ".append() の挙動の違いは：\n",
    "\n",
    "- Series の .append() は，データの内部を変更せず，末尾に新たなデータを足した結果を新たにゼロから生成する\n",
    "- リスト の .append() は，データの内部を変更する。末尾にデータをくっつけるだけ。\n",
    "\n",
    "つまり，Series の場合，append() するたびにデータを作り直す点で，非常にコストが高いです。\n",
    "\n",
    "1000個のデータから成る Series を作る場合\n",
    "\n",
    "- リストを利用する：1000個のデータを1つのリストの末尾にどんどんくっつけて，最後に Series にして終わり。\n",
    "  - データの処理：2000 回\n",
    "- Series を利用する：1個のSeries を新たに生成，2個目をくっつけて，2個のデータから成るSeries を生成，3個目をくっつけて，3個のデータから成るSeries を生成...\n",
    "  - データの処理: 500000 回\n",
    "\n",
    "10000個のデータから成る Series を作る場合\n",
    "\n",
    "- リスト：20000 回\n",
    "- Series：50005000 回"
   ]
  },
  {
   "cell_type": "markdown",
   "metadata": {},
   "source": [
    "**結論**\n",
    "\n",
    "Series に append するのは奥の手で，基本的に リストで解決できないか考えよう"
   ]
  },
  {
   "cell_type": "code",
   "execution_count": null,
   "metadata": {},
   "outputs": [],
   "source": []
  }
 ]
}