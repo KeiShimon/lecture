{
 "nbformat": 4,
 "nbformat_minor": 2,
 "metadata": {
  "language_info": {
   "name": "python",
   "codemirror_mode": {
    "name": "ipython",
    "version": 3
   },
   "version": "3.7.3-final"
  },
  "orig_nbformat": 2,
  "file_extension": ".py",
  "mimetype": "text/x-python",
  "name": "python",
  "npconvert_exporter": "python",
  "pygments_lexer": "ipython3",
  "version": 3,
  "kernelspec": {
   "name": "python3",
   "display_name": "Python 3"
  }
 },
 "cells": [
  {
   "cell_type": "markdown",
   "execution_count": null,
   "metadata": {},
   "outputs": [],
   "source": [
    "## 世界のナベアツ\n",
    "\n",
    "3の倍数と3のつく数でアホになろう\n",
    "\n",
    "要件\n",
    "- 1から50\n",
    "- 3の倍数と3のつく数で \"(aho) 3!\" のように出力する\n",
    "- それ以外の数は \"4!\" のように出力する"
   ]
  },
  {
   "cell_type": "code",
   "execution_count": null,
   "metadata": {},
   "outputs": [],
   "source": [
    "# 世界のナベアツ ver 1.0\n",
    "for n in range(1, 51):\n",
    "    if n % 3 == 0 or '3' in str(n):\n",
    "        print('aho' + str(n))\n",
    "    else:\n",
    "        print(str(n) + '!')"
   ]
  },
  {
   "cell_type": "code",
   "execution_count": 35,
   "metadata": {},
   "outputs": [
    {
     "name": "stdout",
     "output_type": "stream",
     "text": "if block\n"
    }
   ],
   "source": [
    "# あまりが 0 であることを判定する別の方法\n",
    "if not 12 % 3: # 0 は False と判定される\n",
    "    print('if block')\n",
    "else:\n",
    "    print('else block')"
   ]
  },
  {
   "cell_type": "code",
   "execution_count": null,
   "metadata": {},
   "outputs": [],
   "source": [
    "# 世界のナベアツ ver 1.1\n",
    "for n in range(1, 51):\n",
    "    if (not n % 3) or '3' in str(n):  # () はなくてもOK だけど，あるとコードが読みやすくなるかも\n",
    "        print('aho' + str(n))\n",
    "    else:\n",
    "        print(str(n) + '!')"
   ]
  },
  {
   "cell_type": "code",
   "execution_count": 34,
   "metadata": {},
   "outputs": [
    {
     "name": "stdout",
     "output_type": "stream",
     "text": "3 detected!! when x = 340982309158703\n3 detected!! when x = 3409823\n3 detected!! when x = 3\n"
    }
   ],
   "source": [
    "# 文字に3が含まれるか判定する別の方法\n",
    "x = 34098230915870391287\n",
    "\n",
    "while x:\n",
    "    if x % 10 == 3:\n",
    "        print('3 detected!! when x = ' + str(x))\n",
    "    x //= 10"
   ]
  },
  {
   "cell_type": "code",
   "execution_count": 39,
   "metadata": {},
   "outputs": [
    {
     "name": "stdout",
     "output_type": "stream",
     "text": "1!\n2!\n(aho)3!\n4!\n5!\n(aho)6!\n7!\n8!\n(aho)9!\n10!\n11!\n(aho)12!\n(aho)13!\n14!\n(aho)15!\n16!\n17!\n(aho)18!\n19!\n20!\n(aho)21!\n22!\n(aho)23!\n(aho)24!\n25!\n26!\n(aho)27!\n28!\n29!\n(aho)30!\n(aho)31!\n(aho)32!\n(aho)33!\n(aho)34!\n(aho)35!\n(aho)36!\n(aho)37!\n(aho)38!\n(aho)39!\n40!\n41!\n(aho)42!\n(aho)43!\n44!\n(aho)45!\n46!\n47!\n(aho)48!\n49!\n50!\n"
    }
   ],
   "source": [
    "# 世界のナベアツ ver 2.0\n",
    "for n in range(1, 51):\n",
    "    is_nabeatsu = n % 3 == 0\n",
    "    tmp_n = n\n",
    "    while tmp_n and not is_nabeatsu:\n",
    "        if tmp_n % 10 == 3:\n",
    "            is_nabeatsu = True\n",
    "        tmp_n //= 10\n",
    "    if is_nabeatsu:\n",
    "        print('(aho)' + str(n) + '!')\n",
    "    else:\n",
    "        print(str(n) + '!')"
   ]
  },
  {
   "cell_type": "markdown",
   "execution_count": null,
   "metadata": {},
   "outputs": [],
   "source": [
    "## 文字列の圧縮\n",
    "\n",
    "文字列データが長いと，データ通信の時にもったいないので圧縮したりする\n",
    "\n",
    "- AABBCC → A2B2C2\n",
    "- AAABCCDDDDD → A3B1C2D5\n",
    "- A → A1\n",
    "- AAABBBAAA → A3B3A3\n",
    "\n",
    "要件\n",
    "- 文字列の変数名は original とすること\n",
    "- 出力する文字列の変数名は compressed とすること\n",
    "- s を適当に変えても正しい結果が得られること"
   ]
  },
  {
   "cell_type": "code",
   "execution_count": null,
   "metadata": {},
   "outputs": [],
   "source": [
    "# 文字列の圧縮\n",
    "original = 'aaABBBAAA'\n",
    "last_char = ''\n",
    "counter = 0\n",
    "compressed = ''\n",
    "\n",
    "original += '_'  # 番兵\n",
    "\n",
    "for i in range(len(original)):\n",
    "    this_char = original[i]\n",
    "\n",
    "    if last_char != this_char:  # 文字が切り替わった時\n",
    "        if i != 0:  # 1文字目は何もしたくない\n",
    "            compressed += last_char + str(counter)\n",
    "        counter = 1  # カウンターをリセットする\n",
    "    else:  # 直前と同じ文字の時\n",
    "        counter += 1\n",
    "    \n",
    "    last_char = this_char  # 直前の文字を更新する\n",
    "\n",
    "print(compressed)"
   ]
  },
  {
   "cell_type": "code",
   "execution_count": null,
   "metadata": {},
   "outputs": [],
   "source": []
  }
 ]
}