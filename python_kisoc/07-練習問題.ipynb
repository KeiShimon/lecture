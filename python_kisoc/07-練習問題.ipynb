{
 "nbformat": 4,
 "nbformat_minor": 2,
 "metadata": {
  "language_info": {
   "name": "python",
   "codemirror_mode": {
    "name": "ipython",
    "version": 3
   },
   "version": "3.6.10-final"
  },
  "orig_nbformat": 2,
  "file_extension": ".py",
  "mimetype": "text/x-python",
  "name": "python",
  "npconvert_exporter": "python",
  "pygments_lexer": "ipython3",
  "version": 3,
  "kernelspec": {
   "name": "python3",
   "display_name": "Python 3"
  }
 },
 "cells": [
  {
   "cell_type": "markdown",
   "execution_count": null,
   "metadata": {},
   "outputs": [],
   "source": [
    "## 世界のナベアツ\n",
    "\n",
    "3の倍数と3のつく数でアホになろう\n",
    "\n",
    "要件\n",
    "- 1から50\n",
    "- 3の倍数と3のつく数で \"(aho) 3!\" のように出力する\n",
    "- それ以外の数は \"4!\" のように出力する"
   ]
  },
  {
   "cell_type": "code",
   "execution_count": null,
   "metadata": {},
   "outputs": [],
   "source": [
    "# 世界のナベアツ"
   ]
  },
  {
   "cell_type": "markdown",
   "execution_count": null,
   "metadata": {},
   "outputs": [],
   "source": [
    "## 文字列の圧縮\n",
    "\n",
    "文字列データが長いと，データ通信の時にもったいないので圧縮したりする\n",
    "\n",
    "- AABBCC → A2B2C2\n",
    "- AAABCCDDDDD → A3B1C2D5\n",
    "- A → A1\n",
    "- AAABBBAAA → A3B3A3\n",
    "\n",
    "要件\n",
    "- 文字列の変数名は original とすること\n",
    "- 出力する文字列の変数名は compressed とすること\n",
    "- s を適当に変えても正しい結果が得られること"
   ]
  },
  {
   "cell_type": "code",
   "execution_count": null,
   "metadata": {},
   "outputs": [],
   "source": [
    "# 文字列の圧縮\n"
   ]
  }
 ]
}