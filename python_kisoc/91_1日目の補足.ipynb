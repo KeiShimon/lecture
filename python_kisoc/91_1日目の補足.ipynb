{
 "nbformat": 4,
 "nbformat_minor": 2,
 "metadata": {
  "language_info": {
   "name": "python",
   "codemirror_mode": {
    "name": "ipython",
    "version": 3
   },
   "version": "3.7.5-final"
  },
  "orig_nbformat": 2,
  "file_extension": ".py",
  "mimetype": "text/x-python",
  "name": "python",
  "npconvert_exporter": "python",
  "pygments_lexer": "ipython3",
  "version": 3,
  "kernelspec": {
   "name": "python3",
   "display_name": "Python 3"
  }
 },
 "cells": [
  {
   "cell_type": "markdown",
   "execution_count": null,
   "metadata": {},
   "outputs": [],
   "source": [
    "# 1日目の補足\n",
    "\n",
    "1日目 に言い忘れたことと，補足をします"
   ]
  },
  {
   "cell_type": "markdown",
   "execution_count": null,
   "metadata": {},
   "outputs": [],
   "source": [
    "## コメントについて\n",
    "\n",
    "コードの中に，# から始める緑色の行があったとおもいます\n",
    "\n",
    "これが何か説明するのを忘れていました"
   ]
  },
  {
   "cell_type": "code",
   "execution_count": 1,
   "metadata": {},
   "outputs": [],
   "source": [
    "# こういうの"
   ]
  },
  {
   "cell_type": "markdown",
   "execution_count": null,
   "metadata": {},
   "outputs": [],
   "source": [
    "\\# を入力することで，その部分を”コメント”とすることができ，その部分は実行されなくなります"
   ]
  },
  {
   "cell_type": "code",
   "execution_count": 2,
   "metadata": {},
   "outputs": [
    {
     "name": "stdout",
     "output_type": "stream",
     "text": "8\n8\n"
    }
   ],
   "source": [
    "x = 3\n",
    "\n",
    "x += 5\n",
    "\n",
    "print(x)\n",
    "\n",
    "# x += 100\n",
    "\n",
    "print(x)"
   ]
  },
  {
   "cell_type": "markdown",
   "execution_count": null,
   "metadata": {},
   "outputs": [],
   "source": [
    "2つ目の\n",
    "```\n",
    "# x += 100\n",
    "```\n",
    "はコメントのため，実行されませんでした\n",
    "\n",
    "そのため，x の変数の値は8のままです"
   ]
  },
  {
   "cell_type": "code",
   "execution_count": 3,
   "metadata": {},
   "outputs": [
    {
     "ename": "NameError",
     "evalue": "name 'y' is not defined",
     "output_type": "error",
     "traceback": [
      "\u001b[1;31m---------------------------------------------------------------------------\u001b[0m",
      "\u001b[1;31mNameError\u001b[0m                                 Traceback (most recent call last)",
      "\u001b[1;32m<ipython-input-3-7f9f88169aaf>\u001b[0m in \u001b[0;36m<module>\u001b[1;34m\u001b[0m\n\u001b[0;32m      1\u001b[0m \u001b[1;31m# y = 20\u001b[0m\u001b[1;33m\u001b[0m\u001b[1;33m\u001b[0m\u001b[1;33m\u001b[0m\u001b[0m\n\u001b[0;32m      2\u001b[0m \u001b[1;33m\u001b[0m\u001b[0m\n\u001b[1;32m----> 3\u001b[1;33m \u001b[0my\u001b[0m \u001b[1;33m*\u001b[0m \u001b[1;36m2\u001b[0m\u001b[1;33m\u001b[0m\u001b[1;33m\u001b[0m\u001b[0m\n\u001b[0m",
      "\u001b[1;31mNameError\u001b[0m: name 'y' is not defined"
     ]
    }
   ],
   "source": [
    "# y = 20\n",
    "\n",
    "y * 2"
   ]
  },
  {
   "cell_type": "markdown",
   "execution_count": null,
   "metadata": {},
   "outputs": [],
   "source": [
    "上のブロックでは，変数 y の宣言文はコメントの中にあるため，変数 y は宣言できていません\n",
    "\n",
    "そのため，「変数'y'は未定義です」という意味のエラーが出力されています"
   ]
  },
  {
   "cell_type": "markdown",
   "execution_count": null,
   "metadata": {},
   "outputs": [],
   "source": [
    "コメントは，行の末尾にも追加することができます"
   ]
  },
  {
   "cell_type": "code",
   "execution_count": 4,
   "metadata": {},
   "outputs": [],
   "source": [
    "square_numbers = [1, 4, 9, 16] # 平方数からなるリストを作成する"
   ]
  },
  {
   "cell_type": "markdown",
   "execution_count": null,
   "metadata": {},
   "outputs": [],
   "source": [
    "コメントをつける目的の例\n",
    "\n",
    "- 数分後の自分が混乱しないようにする\n",
    "- 久しぶりにそのコードをみた自分が理解できるようにする\n",
    "- 他人がみたときに何をしているのかわかるようにする\n",
    "- TODOリストを残すとき"
   ]
  },
  {
   "cell_type": "markdown",
   "execution_count": null,
   "metadata": {},
   "outputs": [],
   "source": [
    "## 変数の再定義について\n",
    "\n",
    "まず，以下の2つのコードが同じ意味であることを思い出してください"
   ]
  },
  {
   "cell_type": "code",
   "execution_count": 5,
   "metadata": {},
   "outputs": [
    {
     "data": {
      "text/plain": "15"
     },
     "execution_count": 5,
     "metadata": {},
     "output_type": "execute_result"
    }
   ],
   "source": [
    "x = 5\n",
    "\n",
    "x = x + 10\n",
    "\n",
    "x"
   ]
  },
  {
   "cell_type": "code",
   "execution_count": 6,
   "metadata": {},
   "outputs": [
    {
     "data": {
      "text/plain": "15"
     },
     "execution_count": 6,
     "metadata": {},
     "output_type": "execute_result"
    }
   ],
   "source": [
    "x = 5\n",
    "\n",
    "x += 10\n",
    "\n",
    "x"
   ]
  },
  {
   "cell_type": "markdown",
   "execution_count": null,
   "metadata": {},
   "outputs": [],
   "source": [
    "このように，以下の2つのコードは同じ意味でした\n",
    "- x = x + 5\n",
    "- x += 5\n",
    "\n",
    "この記法は，足し算だけでなく全ての演算子で使えます"
   ]
  },
  {
   "cell_type": "markdown",
   "execution_count": null,
   "metadata": {},
   "outputs": [],
   "source": [
    "記号|意味|記述例 (x = 5)|更新後のxの値\n",
    ":---:|:---|:---|:---:\n",
    "+=|足した後の値に更新|x += 10|15\n",
    "-=|引いた後の値に更新|x -= 3|2\n",
    "/=|割った後の値に更新|x /= 2|2.5\n",
    "*=|掛けた後の値に更新|x *= 10|50\n",
    "//=|割り算の商に更新|x //= 3|1\n",
    "%=|割り算の余りに更新|x %= 3|2\n",
    "**=|累乗した結果に更新|x **= 3|125\n",
    "\n",
    "タイプ量が減ってコードが読みやすくなるので，積極的に使ってください"
   ]
  },
  {
   "cell_type": "markdown",
   "execution_count": null,
   "metadata": {},
   "outputs": [],
   "source": [
    "## Pythonが用意している便利な関数を最大限利用しよう\n",
    "\n",
    "今回，平均を求めるために，まずループを回してリストの合計を求めました\n",
    "\n",
    "「合計を求めるために毎回forループを書くなんてプログラミングって面倒くさい」と感じたあなた，それが正しいです\n",
    "\n",
    "”リストの合計値を求める”といった，多くの人が行うようなことは大抵なんらかの方法で簡単に実現できるようになっています\n"
   ]
  },
  {
   "cell_type": "markdown",
   "execution_count": null,
   "metadata": {},
   "outputs": [],
   "source": [
    "リストの合計値はsum()で求まります"
   ]
  },
  {
   "cell_type": "code",
   "execution_count": 7,
   "metadata": {},
   "outputs": [],
   "source": [
    "# 要素が多めのリストを定義する\n",
    "longer_list = [\n",
    "    25, 23, 21, 59, 49, 55, 46, 34, 33, 19,\n",
    "    48, 21, 47, 17, 37, 58, 50, 32, 41, 2,\n",
    "    42, 48, 36, 31, 21, 53, 50, 31, 49, 34\n",
    "]"
   ]
  },
  {
   "cell_type": "code",
   "execution_count": 8,
   "metadata": {},
   "outputs": [
    {
     "data": {
      "text/plain": "1112"
     },
     "execution_count": 8,
     "metadata": {},
     "output_type": "execute_result"
    }
   ],
   "source": [
    "# 関数 sum を用いて，longer_list の合計を求める\n",
    "sum(longer_list)"
   ]
  },
  {
   "cell_type": "code",
   "execution_count": 9,
   "metadata": {},
   "outputs": [
    {
     "data": {
      "text/plain": "1112"
     },
     "execution_count": 9,
     "metadata": {},
     "output_type": "execute_result"
    }
   ],
   "source": [
    "# 前回皆さんにやってもらった方法\n",
    "result = 0\n",
    "for x in longer_list:\n",
    "    result += x\n",
    "result"
   ]
  },
  {
   "cell_type": "markdown",
   "execution_count": null,
   "metadata": {},
   "outputs": [],
   "source": [
    "何かを実現したいとき，それが簡単にできる方法がないかググるようにしましょう\n",
    "\n",
    "今回は，”Python リストの合計を求める”とかググると上の方の検索結果に適切な方法が示されているはずです"
   ]
  },
  {
   "cell_type": "markdown",
   "execution_count": null,
   "metadata": {},
   "outputs": [],
   "source": [
    "## リストの逆順ソートについて\n",
    "\n",
    "水原さんから「逆順ソートはどうやるのか」という質問への私の回答がスマートではなかったので，ここで補足します\n",
    "\n",
    "まず，sorted() でソートした結果のリストを得ることができたのを思い出してください"
   ]
  },
  {
   "cell_type": "code",
   "execution_count": 10,
   "metadata": {},
   "outputs": [
    {
     "name": "stdout",
     "output_type": "stream",
     "text": "[2, 17, 19, 21, 21, 21, 23, 25, 31, 31, 32, 33, 34, 34, 36, 37, 41, 42, 46, 47, 48, 48, 49, 49, 50, 50, 53, 55, 58, 59]\n"
    }
   ],
   "source": [
    "print(sorted(longer_list))"
   ]
  },
  {
   "cell_type": "markdown",
   "execution_count": null,
   "metadata": {},
   "outputs": [],
   "source": [
    "前回示した方法は，\n",
    "\n",
    "- ソートする\n",
    "- 逆順にする\n",
    "- 実体化する\n",
    "\n",
    "というステップで実現していました"
   ]
  },
  {
   "cell_type": "code",
   "execution_count": 11,
   "metadata": {},
   "outputs": [
    {
     "name": "stdout",
     "output_type": "stream",
     "text": "[59, 58, 55, 53, 50, 50, 49, 49, 48, 48, 47, 46, 42, 41, 37, 36, 34, 34, 33, 32, 31, 31, 25, 23, 21, 21, 21, 19, 17, 2]\n"
    }
   ],
   "source": [
    "# 愚直な方法\n",
    "print(list(reversed(sorted(longer_list))))"
   ]
  },
  {
   "cell_type": "markdown",
   "execution_count": null,
   "metadata": {},
   "outputs": [],
   "source": [
    "sorted() に，”逆順ソートをする”というオプションをつけると，逆順ソートができます\n",
    "\n",
    "書き方：\n",
    "```\n",
    "sorted(ソートする対象のリスト, reverse=True)\n",
    "```"
   ]
  },
  {
   "cell_type": "code",
   "execution_count": 12,
   "metadata": {},
   "outputs": [
    {
     "name": "stdout",
     "output_type": "stream",
     "text": "[59, 58, 55, 53, 50, 50, 49, 49, 48, 48, 47, 46, 42, 41, 37, 36, 34, 34, 33, 32, 31, 31, 25, 23, 21, 21, 21, 19, 17, 2]\n"
    }
   ],
   "source": [
    "print(sorted(longer_list, reverse=True))"
   ]
  },
  {
   "cell_type": "markdown",
   "execution_count": null,
   "metadata": {},
   "outputs": [],
   "source": [
    "## for ループの変数について"
   ]
  },
  {
   "cell_type": "markdown",
   "execution_count": null,
   "metadata": {},
   "outputs": [],
   "source": [
    "（再掲）和を求めるコード"
   ]
  },
  {
   "cell_type": "code",
   "execution_count": 13,
   "metadata": {},
   "outputs": [
    {
     "data": {
      "text/plain": "1112"
     },
     "execution_count": 13,
     "metadata": {},
     "output_type": "execute_result"
    }
   ],
   "source": [
    "result = 0\n",
    "for x in longer_list:\n",
    "    result += x\n",
    "result"
   ]
  },
  {
   "cell_type": "markdown",
   "execution_count": null,
   "metadata": {},
   "outputs": [],
   "source": [
    "ループ用の変数名は x でしたが，これは好きな名前にしても良いです"
   ]
  },
  {
   "cell_type": "code",
   "execution_count": 14,
   "metadata": {},
   "outputs": [
    {
     "data": {
      "text/plain": "1112"
     },
     "execution_count": 14,
     "metadata": {},
     "output_type": "execute_result"
    }
   ],
   "source": [
    "result = 0\n",
    "for weired_named_variable in longer_list:\n",
    "    result += weired_named_variable\n",
    "result"
   ]
  },
  {
   "cell_type": "markdown",
   "execution_count": null,
   "metadata": {},
   "outputs": [],
   "source": [
    "ループの対象となるデータは，変数でなくても大丈夫です"
   ]
  },
  {
   "cell_type": "code",
   "execution_count": 15,
   "metadata": {},
   "outputs": [
    {
     "data": {
      "text/plain": "3211"
     },
     "execution_count": 15,
     "metadata": {},
     "output_type": "execute_result"
    }
   ],
   "source": [
    "result = 0\n",
    "for x in [1, 10, 200, 3000]:\n",
    "    result += x\n",
    "result"
   ]
  },
  {
   "cell_type": "markdown",
   "execution_count": null,
   "metadata": {},
   "outputs": [],
   "source": [
    "逆順に取り出す場合"
   ]
  },
  {
   "cell_type": "code",
   "execution_count": 16,
   "metadata": {},
   "outputs": [
    {
     "name": "stdout",
     "output_type": "stream",
     "text": "34, 49, 31, 50, 53, 21, 31, 36, 48, 42, 2, 41, 32, 50, 58, 37, 17, 47, 21, 48, 19, 33, 34, 46, 55, 49, 59, 21, 23, 25,"
    }
   ],
   "source": [
    "for x in reversed(longer_list):\n",
    "    print(x, end=', ') # 見やすさのために，改行ではなく，カンマ区切りで出力します"
   ]
  },
  {
   "cell_type": "markdown",
   "execution_count": null,
   "metadata": {},
   "outputs": [],
   "source": [
    "逆順になっていることを確認するために，元の順番を再掲"
   ]
  },
  {
   "cell_type": "code",
   "execution_count": 17,
   "metadata": {},
   "outputs": [
    {
     "name": "stdout",
     "output_type": "stream",
     "text": "[25, 23, 21, 59, 49, 55, 46, 34, 33, 19, 48, 21, 47, 17, 37, 58, 50, 32, 41, 2, 42, 48, 36, 31, 21, 53, 50, 31, 49, 34]\n"
    }
   ],
   "source": [
    "print(longer_list)"
   ]
  },
  {
   "cell_type": "markdown",
   "execution_count": null,
   "metadata": {},
   "outputs": [],
   "source": [
    "## リストの部分に対する for loop\n",
    "\n",
    "リストの全体ではなく，たとえば先頭の10要素のみについてループしたい場合などは，リストのスライスを用いましょう\n",
    "\n",
    "復習：スライス\n",
    "```\n",
    "some_list[start:end]\n",
    "```\n",
    "これで，インデックス番号 start から，インデックス番号 end-1 までの要素を抜き出すことができました\n",
    "\n",
    "では，longer_list の先頭10 要素の和を求めてみましょう"
   ]
  },
  {
   "cell_type": "code",
   "execution_count": 18,
   "metadata": {},
   "outputs": [
    {
     "data": {
      "text/plain": "100"
     },
     "execution_count": 18,
     "metadata": {},
     "output_type": "execute_result"
    }
   ],
   "source": [
    "result = 0\n",
    "for x in longer_list[:10]:\n",
    "    result += 10\n",
    "result"
   ]
  },
  {
   "cell_type": "markdown",
   "execution_count": null,
   "metadata": {},
   "outputs": [],
   "source": [
    "## 解答例\n",
    "\n",
    "さいごに，前回の練習問題，演習問題の解答例を並べます"
   ]
  },
  {
   "cell_type": "markdown",
   "execution_count": null,
   "metadata": {},
   "outputs": [],
   "source": [
    "### 身長180.5 cm，体重70 ㎏の人のBMIを求める"
   ]
  },
  {
   "cell_type": "code",
   "execution_count": 19,
   "metadata": {},
   "outputs": [
    {
     "name": "stdout",
     "output_type": "stream",
     "text": "21.485409105209445\n"
    }
   ],
   "source": [
    "height = 180.5\n",
    "weight = 70.0\n",
    "\n",
    "bmi = weight / (height / 100) ** 2\n",
    "\n",
    "print(bmi)"
   ]
  },
  {
   "cell_type": "markdown",
   "execution_count": null,
   "metadata": {},
   "outputs": [],
   "source": [
    "### 税抜き価格が9980円のものを買おうとしています。税込み価格はいくらでしょうか？（税率は10%）\n",
    "\n",
    "要件\n",
    "- 税抜き価格，税込み価格，税率を変数に格納すること\n",
    "- 税込み価格をセルの出力結果に表示すること"
   ]
  },
  {
   "cell_type": "code",
   "execution_count": 20,
   "metadata": {},
   "outputs": [
    {
     "name": "stdout",
     "output_type": "stream",
     "text": "10978.0\n"
    }
   ],
   "source": [
    "price_no_tax = 9980\n",
    "consumption_tax_rate = .10\n",
    "\n",
    "price_including_tax = price_no_tax * (1.00+consumption_tax_rate)\n",
    "\n",
    "print(price_including_tax)"
   ]
  },
  {
   "cell_type": "code",
   "execution_count": 21,
   "metadata": {},
   "outputs": [],
   "source": [
    "# 価格は小数じゃなくて整数だよね(関心のある人のみ読めばOK)\n",
    "\n",
    "# 四捨五入\n",
    "price_including_tax = int(price_including_tax)\n",
    "\n",
    "# 切り捨て\n",
    "import math\n",
    "price_including_tax = math.floor(price_including_tax)\n",
    "\n",
    "# 切り上げ\n",
    "price_including_tax = math.ceil(price_including_tax)"
   ]
  },
  {
   "cell_type": "markdown",
   "execution_count": null,
   "metadata": {},
   "outputs": [],
   "source": [
    "### リストの平均，標準偏差を求める"
   ]
  },
  {
   "cell_type": "code",
   "execution_count": 22,
   "metadata": {},
   "outputs": [],
   "source": [
    "longer_list = [\n",
    "    25, 23, 21, 59, 49, 55, 46, 34, 33, 19,\n",
    "    48, 21, 47, 17, 37, 58, 50, 32, 41, 2,\n",
    "    42, 48, 36, 31, 21, 53, 50, 31, 49, 34\n",
    "]"
   ]
  },
  {
   "cell_type": "markdown",
   "execution_count": null,
   "metadata": {},
   "outputs": [],
   "source": [
    "解答例"
   ]
  },
  {
   "cell_type": "code",
   "execution_count": 23,
   "metadata": {},
   "outputs": [
    {
     "name": "stdout",
     "output_type": "stream",
     "text": "37.06666666666667\n"
    }
   ],
   "source": [
    "# 平均を求める\n",
    "sum_of_list = 0\n",
    "\n",
    "for x in longer_list:\n",
    "    sum_of_list += x\n",
    "average = sum_of_list / len(longer_list)\n",
    "\n",
    "print(average)"
   ]
  },
  {
   "cell_type": "code",
   "execution_count": 24,
   "metadata": {},
   "outputs": [
    {
     "name": "stdout",
     "output_type": "stream",
     "text": "13.885083923244956\n"
    }
   ],
   "source": [
    "# 標準偏差を求める\n",
    "square_sum = 0\n",
    "\n",
    "for x in longer_list:\n",
    "    square_sum += (x - average) ** 2\n",
    "\n",
    "sd_of_list = (square_sum / len(longer_list)) ** 0.5\n",
    "\n",
    "print(sd_of_list)"
   ]
  },
  {
   "cell_type": "markdown",
   "execution_count": null,
   "metadata": {},
   "outputs": [],
   "source": [
    "Pythonが用意してくれている関数を用いると，もっと簡単に求められます\n",
    "\n",
    "”Python リストの標準偏差を求める” などとググると出てくると思います\n",
    "\n",
    "import がどういう意味かは，2回目に余裕があれば解説します"
   ]
  },
  {
   "cell_type": "code",
   "execution_count": 25,
   "metadata": {},
   "outputs": [
    {
     "name": "stdout",
     "output_type": "stream",
     "text": "37.06666666666667\n"
    }
   ],
   "source": [
    "# スマートに平均を求める\n",
    "average = sum(longer_list) / len(longer_list)\n",
    "\n",
    "print(average)"
   ]
  },
  {
   "cell_type": "code",
   "execution_count": 26,
   "metadata": {},
   "outputs": [
    {
     "name": "stdout",
     "output_type": "stream",
     "text": "37.06666666666667\n"
    }
   ],
   "source": [
    "# もっとスマートに平均を求める\n",
    "import statistics # \"statistics\" に統計に関する関数がまとまって用意されているので，それを使えるようにする命令文\n",
    "\n",
    "average = statistics.mean(longer_list)\n",
    "\n",
    "print(average)"
   ]
  },
  {
   "cell_type": "code",
   "execution_count": 27,
   "metadata": {},
   "outputs": [
    {
     "name": "stdout",
     "output_type": "stream",
     "text": "13.885083923244956\n"
    }
   ],
   "source": [
    "# スマートに標準偏差を求める\n",
    "import statistics\n",
    "\n",
    "sd_of_list = statistics.pstdev(longer_list)\n",
    "\n",
    "print(sd_of_list)"
   ]
  },
  {
   "cell_type": "code",
   "execution_count": null,
   "metadata": {},
   "outputs": [],
   "source": []
  }
 ]
}