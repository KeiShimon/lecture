{
 "nbformat": 4,
 "nbformat_minor": 2,
 "metadata": {
  "language_info": {
   "name": "python",
   "codemirror_mode": {
    "name": "ipython",
    "version": 3
   },
   "version": "3.7.5-final"
  },
  "orig_nbformat": 2,
  "file_extension": ".py",
  "mimetype": "text/x-python",
  "name": "python",
  "npconvert_exporter": "python",
  "pygments_lexer": "ipython3",
  "version": 3,
  "kernelspec": {
   "name": "python37564bitthesiscondaaa168456843841119840d2918c46ce01",
   "display_name": "Python 3.7.5 64-bit ('thesis': conda)"
  }
 },
 "cells": [
  {
   "cell_type": "markdown",
   "execution_count": null,
   "metadata": {},
   "outputs": [],
   "source": [
    "# 1日目の補足\n",
    "\n",
    "1日目"
   ]
  },
  {
   "cell_type": "markdown",
   "execution_count": null,
   "metadata": {},
   "outputs": [],
   "source": [
    "## コメントについて\n",
    "\n",
    "コードの中に，# から始める緑色の行があったとおもいます\n",
    "\n",
    "これが何か説明するのを忘れていました"
   ]
  },
  {
   "cell_type": "code",
   "execution_count": 1,
   "metadata": {},
   "outputs": [],
   "source": [
    "# こういうの"
   ]
  },
  {
   "cell_type": "markdown",
   "execution_count": null,
   "metadata": {},
   "outputs": [],
   "source": [
    "\\# を入力することで，その部分を”コメント”とすることができ，その部分は実行されなくなります"
   ]
  },
  {
   "cell_type": "code",
   "execution_count": 2,
   "metadata": {},
   "outputs": [
    {
     "name": "stdout",
     "output_type": "stream",
     "text": "8\n8\n"
    }
   ],
   "source": [
    "x = 3\n",
    "\n",
    "x += 5\n",
    "\n",
    "print(x)\n",
    "\n",
    "# x += 100\n",
    "\n",
    "print(x)"
   ]
  },
  {
   "cell_type": "markdown",
   "execution_count": null,
   "metadata": {},
   "outputs": [],
   "source": [
    "2つ目の\n",
    "```\n",
    "# x += 100\n",
    "```\n",
    "はコメントのため，実行されませんでした\n",
    "\n",
    "そのため，x の変数の値は8のままです"
   ]
  },
  {
   "cell_type": "code",
   "execution_count": 3,
   "metadata": {},
   "outputs": [
    {
     "ename": "NameError",
     "evalue": "name 'y' is not defined",
     "output_type": "error",
     "traceback": [
      "\u001b[1;31m---------------------------------------------------------------------------\u001b[0m",
      "\u001b[1;31mNameError\u001b[0m                                 Traceback (most recent call last)",
      "\u001b[1;32m<ipython-input-3-7f9f88169aaf>\u001b[0m in \u001b[0;36m<module>\u001b[1;34m\u001b[0m\n\u001b[0;32m      1\u001b[0m \u001b[1;31m# y = 20\u001b[0m\u001b[1;33m\u001b[0m\u001b[1;33m\u001b[0m\u001b[1;33m\u001b[0m\u001b[0m\n\u001b[0;32m      2\u001b[0m \u001b[1;33m\u001b[0m\u001b[0m\n\u001b[1;32m----> 3\u001b[1;33m \u001b[0my\u001b[0m \u001b[1;33m*\u001b[0m \u001b[1;36m2\u001b[0m\u001b[1;33m\u001b[0m\u001b[1;33m\u001b[0m\u001b[0m\n\u001b[0m",
      "\u001b[1;31mNameError\u001b[0m: name 'y' is not defined"
     ]
    }
   ],
   "source": [
    "# y = 20\n",
    "\n",
    "y * 2"
   ]
  },
  {
   "cell_type": "markdown",
   "execution_count": null,
   "metadata": {},
   "outputs": [],
   "source": [
    "上のブロックでは，変数 y の宣言文はコメントの中にあるため，変数 y は宣言できていません\n",
    "\n",
    "そのため，「変数'y'は未定義です」という意味のエラーが出力されています"
   ]
  },
  {
   "cell_type": "markdown",
   "execution_count": null,
   "metadata": {},
   "outputs": [],
   "source": [
    "コメントは，行の末尾にも追加することができます"
   ]
  },
  {
   "cell_type": "code",
   "execution_count": 17,
   "metadata": {},
   "outputs": [],
   "source": [
    "square_numbers = [1, 4, 9, 16] # 平方数からなるリストを作成する"
   ]
  },
  {
   "cell_type": "markdown",
   "execution_count": null,
   "metadata": {},
   "outputs": [],
   "source": [
    "コメントをつける目的の例\n",
    "\n",
    "- 数分後の自分が混乱しないようにする\n",
    "- 久しぶりにそのコードをみた自分が理解できるようにする\n",
    "- 他人がみたときに何をしているのかわかるようにする\n",
    "- TODOリストを残すとき"
   ]
  },
  {
   "cell_type": "markdown",
   "execution_count": null,
   "metadata": {},
   "outputs": [],
   "source": [
    "## Pythonが用意している便利な関数を最大限利用しよう\n",
    "\n",
    "今回，平均を求めるために，まずループを回してリストの合計を求めました\n",
    "\n",
    "「合計を求めるために毎回forループを書くなんてプログラミングって面倒くさい」と感じたあなた，それが正しいです\n",
    "\n",
    "”リストの合計値を求める”といった，多くの人が行うようなことは大抵なんらかの方法で簡単に実現できるようになっています\n"
   ]
  },
  {
   "cell_type": "markdown",
   "execution_count": null,
   "metadata": {},
   "outputs": [],
   "source": [
    "リストの合計値はsum()で求まります"
   ]
  },
  {
   "cell_type": "code",
   "execution_count": 18,
   "metadata": {},
   "outputs": [],
   "source": [
    "# 要素が多めのリストを定義する\n",
    "longer_list = [\n",
    "    25, 23, 21, 59, 49, 55, 46, 34, 33, 19,\n",
    "    48, 21, 47, 17, 37, 58, 50, 32, 41, 2,\n",
    "    42, 48, 36, 31, 21, 53, 50, 31, 49, 34\n",
    "]"
   ]
  },
  {
   "cell_type": "code",
   "execution_count": 19,
   "metadata": {},
   "outputs": [
    {
     "data": {
      "text/plain": "1112"
     },
     "execution_count": 19,
     "metadata": {},
     "output_type": "execute_result"
    }
   ],
   "source": [
    "# 関数 sum を用いて，longer_list の合計を求める\n",
    "sum(longer_list)"
   ]
  },
  {
   "cell_type": "code",
   "execution_count": 20,
   "metadata": {},
   "outputs": [
    {
     "data": {
      "text/plain": "1112"
     },
     "execution_count": 20,
     "metadata": {},
     "output_type": "execute_result"
    }
   ],
   "source": [
    "# 前回皆さんにやってもらった方法\n",
    "result = 0\n",
    "for x in longer_list:\n",
    "    result += x\n",
    "result"
   ]
  },
  {
   "cell_type": "markdown",
   "execution_count": null,
   "metadata": {},
   "outputs": [],
   "source": [
    "何かを実現したいとき，それが簡単にできる方法がないかググるようにしましょう\n",
    "\n",
    "今回は，”Python リストの合計を求める”とかググると上の方の検索結果に適切な方法が示されているはずです"
   ]
  },
  {
   "cell_type": "markdown",
   "execution_count": null,
   "metadata": {},
   "outputs": [],
   "source": [
    "## リストの逆順ソートについて\n",
    "\n",
    "水原さんから「逆順ソートはどうやるのか」という質問への私の回答がスマートではなかったので，ここで補足します\n",
    "\n",
    "まず，sorted() でソートした結果のリストを得ることができたのを思い出してください"
   ]
  },
  {
   "cell_type": "code",
   "execution_count": 21,
   "metadata": {},
   "outputs": [
    {
     "name": "stdout",
     "output_type": "stream",
     "text": "[2, 17, 19, 21, 21, 21, 23, 25, 31, 31, 32, 33, 34, 34, 36, 37, 41, 42, 46, 47, 48, 48, 49, 49, 50, 50, 53, 55, 58, 59]\n"
    }
   ],
   "source": [
    "print(sorted(longer_list))"
   ]
  },
  {
   "cell_type": "markdown",
   "execution_count": null,
   "metadata": {},
   "outputs": [],
   "source": [
    "前回示した方法は，\n",
    "\n",
    "- ソートする\n",
    "- 逆順にする\n",
    "- 実体化する\n",
    "\n",
    "というステップで実現していました"
   ]
  },
  {
   "cell_type": "code",
   "execution_count": 22,
   "metadata": {},
   "outputs": [
    {
     "name": "stdout",
     "output_type": "stream",
     "text": "[59, 58, 55, 53, 50, 50, 49, 49, 48, 48, 47, 46, 42, 41, 37, 36, 34, 34, 33, 32, 31, 31, 25, 23, 21, 21, 21, 19, 17, 2]\n"
    }
   ],
   "source": [
    "# 愚直な方法\n",
    "print(list(reversed(sorted(longer_list))))"
   ]
  },
  {
   "cell_type": "markdown",
   "execution_count": null,
   "metadata": {},
   "outputs": [],
   "source": [
    "sorted() に，”逆順ソートをする”というオプションをつけると，逆順ソートができます\n",
    "\n",
    "書き方：\n",
    "```\n",
    "sorted(ソートする対象のリスト, reverse=True)\n",
    "```"
   ]
  },
  {
   "cell_type": "code",
   "execution_count": 23,
   "metadata": {},
   "outputs": [
    {
     "name": "stdout",
     "output_type": "stream",
     "text": "[59, 58, 55, 53, 50, 50, 49, 49, 48, 48, 47, 46, 42, 41, 37, 36, 34, 34, 33, 32, 31, 31, 25, 23, 21, 21, 21, 19, 17, 2]\n"
    }
   ],
   "source": [
    "print(sorted(longer_list, reverse=True))"
   ]
  },
  {
   "cell_type": "markdown",
   "execution_count": null,
   "metadata": {},
   "outputs": [],
   "source": [
    "## for ループの変数について"
   ]
  },
  {
   "cell_type": "markdown",
   "execution_count": null,
   "metadata": {},
   "outputs": [],
   "source": [
    "（再掲）和を求めるコード"
   ]
  },
  {
   "cell_type": "code",
   "execution_count": 24,
   "metadata": {},
   "outputs": [
    {
     "data": {
      "text/plain": "1112"
     },
     "execution_count": 24,
     "metadata": {},
     "output_type": "execute_result"
    }
   ],
   "source": [
    "result = 0\n",
    "for x in longer_list:\n",
    "    result += x\n",
    "result"
   ]
  },
  {
   "cell_type": "markdown",
   "execution_count": null,
   "metadata": {},
   "outputs": [],
   "source": [
    "ループ用の変数名は x でしたが，これは好きな名前にしても良いです"
   ]
  },
  {
   "cell_type": "code",
   "execution_count": 25,
   "metadata": {},
   "outputs": [
    {
     "data": {
      "text/plain": "1112"
     },
     "execution_count": 25,
     "metadata": {},
     "output_type": "execute_result"
    }
   ],
   "source": [
    "result = 0\n",
    "for weired_named_variable in longer_list:\n",
    "    result += weired_named_variable\n",
    "result"
   ]
  },
  {
   "cell_type": "markdown",
   "execution_count": null,
   "metadata": {},
   "outputs": [],
   "source": [
    "ループの対象となるデータは，変数でなくても大丈夫です"
   ]
  },
  {
   "cell_type": "code",
   "execution_count": 26,
   "metadata": {},
   "outputs": [
    {
     "data": {
      "text/plain": "3211"
     },
     "execution_count": 26,
     "metadata": {},
     "output_type": "execute_result"
    }
   ],
   "source": [
    "result = 0\n",
    "for x in [1, 10, 200, 3000]:\n",
    "    result += x\n",
    "result"
   ]
  },
  {
   "cell_type": "markdown",
   "execution_count": null,
   "metadata": {},
   "outputs": [],
   "source": [
    "逆順に取り出す場合"
   ]
  },
  {
   "cell_type": "code",
   "execution_count": 27,
   "metadata": {},
   "outputs": [
    {
     "name": "stdout",
     "output_type": "stream",
     "text": "34, 49, 31, 50, 53, 21, 31, 36, 48, 42, 2, 41, 32, 50, 58, 37, 17, 47, 21, 48, 19, 33, 34, 46, 55, 49, 59, 21, 23, 25,"
    }
   ],
   "source": [
    "for x in reversed(longer_list):\n",
    "    print(x, end=', ') # 見やすさのために，改行ではなく，カンマ区切りで出力します"
   ]
  },
  {
   "cell_type": "markdown",
   "execution_count": null,
   "metadata": {},
   "outputs": [],
   "source": [
    "逆順になっていることを確認するために，元の順番を再掲"
   ]
  },
  {
   "cell_type": "code",
   "execution_count": 28,
   "metadata": {},
   "outputs": [
    {
     "name": "stdout",
     "output_type": "stream",
     "text": "[25, 23, 21, 59, 49, 55, 46, 34, 33, 19, 48, 21, 47, 17, 37, 58, 50, 32, 41, 2, 42, 48, 36, 31, 21, 53, 50, 31, 49, 34]\n"
    }
   ],
   "source": [
    "print(longer_list)"
   ]
  },
  {
   "cell_type": "markdown",
   "execution_count": null,
   "metadata": {},
   "outputs": [],
   "source": [
    "## リストの部分に対する for loop\n",
    "\n",
    "リストの全体ではなく，たとえば先頭の10要素のみについてループしたい場合などは，リストのスライスを用いましょう\n",
    "\n",
    "復習：スライス\n",
    "```\n",
    "some_list[start:end]\n",
    "```\n",
    "これで，インデックス番号 start から，インデックス番号 end-1 までの要素を抜き出すことができました\n",
    "\n",
    "では，longer_list の先頭10 要素の和を求めてみましょう"
   ]
  },
  {
   "cell_type": "code",
   "execution_count": 29,
   "metadata": {},
   "outputs": [
    {
     "data": {
      "text/plain": "100"
     },
     "execution_count": 29,
     "metadata": {},
     "output_type": "execute_result"
    }
   ],
   "source": [
    "result = 0\n",
    "for x in longer_list[:10]:\n",
    "    result += 10\n",
    "result"
   ]
  },
  {
   "cell_type": "code",
   "execution_count": null,
   "metadata": {},
   "outputs": [],
   "source": []
  }
 ]
}