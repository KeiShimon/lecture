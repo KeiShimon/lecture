{
 "cells": [
  {
   "cell_type": "markdown",
   "execution_count": null,
   "metadata": {},
   "outputs": [],
   "source": [
    "# if, elif, else\n",
    "\n",
    "- ○○のときはXXする\n",
    "- それ以外のときはYYする\n",
    "\n",
    "```\n",
    "if case1:\n",
    "    perform action1\n",
    "else: \n",
    "    perform action3\n",
    "```\n",
    "\n",
    "- ××のときはYYする\n",
    "- そうでなく，△△のときはZZする\n",
    "- それ以外のときはWWする\n",
    "\n",
    "```\n",
    "if ××:\n",
    "    perform YY\n",
    "elif △△:\n",
    "    perform ZZ\n",
    "else: \n",
    "    perform WW\n",
    "```\n",
    "\n",
    "Pythonでは，インデントに文法的意味がある（for ループを思い出そう）\n",
    "\n",
    "ifのブロック，elifのブロック，elseのブロックをそれぞれまとめてインデント下げする"
   ]
  },
  {
   "cell_type": "markdown",
   "execution_count": null,
   "metadata": {},
   "outputs": [],
   "source": [
    "## if-else\n",
    "\n",
    "- ○○のときはXXする\n",
    "- それ以外のときはYYする"
   ]
  },
  {
   "cell_type": "code",
   "execution_count": null,
   "metadata": {},
   "outputs": [],
   "source": [
    "if True:\n",
    "    print('It was true!')"
   ]
  },
  {
   "cell_type": "code",
   "execution_count": null,
   "metadata": {},
   "outputs": [],
   "source": [
    "x = False\n",
    "\n",
    "if x:\n",
    "    print('x was True!')\n",
    "else:\n",
    "    print('I will be printed in any case where x is not true')"
   ]
  },
  {
   "cell_type": "code",
   "execution_count": null,
   "metadata": {},
   "outputs": [],
   "source": [
    "y = 3\n",
    "\n",
    "if y % 2 == 0:\n",
    "    print('y is an even number')\n",
    "else:\n",
    "    print('y is an odd number')"
   ]
  },
  {
   "cell_type": "markdown",
   "execution_count": null,
   "metadata": {},
   "outputs": [],
   "source": [
    "## if-elif-else\n",
    "\n",
    "- ××のときはYYする\n",
    "- そうでなく，△△のときはZZする\n",
    "- それ以外のときはWWする\n"
   ]
  },
  {
   "cell_type": "code",
   "execution_count": null,
   "metadata": {},
   "outputs": [],
   "source": [
    "country = 'Japan'\n",
    "\n",
    "if country == 'China':\n",
    "    print('你好')\n",
    "elif country == 'Japanese':\n",
    "    print('ようこそ')\n",
    "elif country == 'South Korea':\n",
    "    print('어서 오세요')\n",
    "else:\n",
    "    print('Welcome')"
   ]
  },
  {
   "cell_type": "markdown",
   "execution_count": null,
   "metadata": {},
   "outputs": [],
   "source": [
    "ifの中にifを書いてもよい（ネスト）"
   ]
  },
  {
   "cell_type": "code",
   "execution_count": null,
   "metadata": {},
   "outputs": [],
   "source": [
    "age = 19\n",
    "\n",
    "if age > 18:\n",
    "    if age > 20:\n",
    "        print('運転免許はとれるし，お酒も飲めます')\n",
    "    else:\n",
    "        print('運転免許は取れるけどお酒は飲めません')\n",
    "else:\n",
    "    print('運転免許はとれないし，お酒も飲めません')"
   ]
  },
  {
   "cell_type": "code",
   "execution_count": null,
   "metadata": {},
   "outputs": [],
   "source": []
  }
 ],
 "metadata": {
  "kernelspec": {
   "display_name": "Python 3",
   "language": "python",
   "name": "python3"
  },
  "language_info": {
   "codemirror_mode": {
    "name": "ipython",
    "version": 3
   },
   "file_extension": ".py",
   "mimetype": "text/x-python",
   "name": "python",
   "nbconvert_exporter": "python",
   "pygments_lexer": "ipython3",
   "version": "3.6.10-final"
  }
 },
 "nbformat": 4,
 "nbformat_minor": 1
}